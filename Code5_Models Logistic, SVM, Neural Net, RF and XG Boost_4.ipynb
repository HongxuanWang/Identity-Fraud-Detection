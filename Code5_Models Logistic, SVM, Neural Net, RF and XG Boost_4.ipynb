{
 "cells": [
  {
   "cell_type": "code",
   "execution_count": 1,
   "metadata": {},
   "outputs": [],
   "source": [
    "#Loading necessary modules\n",
    "import pandas as pd\n",
    "import numpy as np"
   ]
  },
  {
   "cell_type": "code",
   "execution_count": 2,
   "metadata": {},
   "outputs": [],
   "source": [
    "# Load traintest data\n",
    "traintest = pd.read_csv('Code5_6_traintest.csv',index_col = 0)\n",
    "traintest_backup = traintest.copy()"
   ]
  },
  {
   "cell_type": "code",
   "execution_count": 3,
   "metadata": {
    "scrolled": true
   },
   "outputs": [
    {
     "data": {
      "text/html": [
       "<div>\n",
       "<style scoped>\n",
       "    .dataframe tbody tr th:only-of-type {\n",
       "        vertical-align: middle;\n",
       "    }\n",
       "\n",
       "    .dataframe tbody tr th {\n",
       "        vertical-align: top;\n",
       "    }\n",
       "\n",
       "    .dataframe thead th {\n",
       "        text-align: right;\n",
       "    }\n",
       "</style>\n",
       "<table border=\"1\" class=\"dataframe\">\n",
       "  <thead>\n",
       "    <tr style=\"text-align: right;\">\n",
       "      <th></th>\n",
       "      <th>record</th>\n",
       "      <th>dayssince_fulladdress</th>\n",
       "      <th>vel_fulladdress_30</th>\n",
       "      <th>vel_fulladdress_14</th>\n",
       "      <th>vel_fulladdress_7</th>\n",
       "      <th>vel_fulladdress_3</th>\n",
       "      <th>relv_fulladdress_14</th>\n",
       "      <th>relv_fulladdress_30</th>\n",
       "      <th>relv_fulladdress_60</th>\n",
       "      <th>vel_fulladdress_1</th>\n",
       "      <th>...</th>\n",
       "      <th>dayssince_namessn</th>\n",
       "      <th>vel_namessn_30</th>\n",
       "      <th>vel_namedob_60</th>\n",
       "      <th>vel_ssnnamedob_60</th>\n",
       "      <th>vel_fulladdressphone_14</th>\n",
       "      <th>vel_namessn_60</th>\n",
       "      <th>vel_namedob_14</th>\n",
       "      <th>vel_ssndob_14</th>\n",
       "      <th>vel_ssn_14</th>\n",
       "      <th>fraud_label</th>\n",
       "    </tr>\n",
       "  </thead>\n",
       "  <tbody>\n",
       "    <tr>\n",
       "      <th>0</th>\n",
       "      <td>1</td>\n",
       "      <td>0.294021</td>\n",
       "      <td>-0.101958</td>\n",
       "      <td>-0.079045</td>\n",
       "      <td>-0.067094</td>\n",
       "      <td>-0.057932</td>\n",
       "      <td>-0.06999</td>\n",
       "      <td>-0.069649</td>\n",
       "      <td>-0.069424</td>\n",
       "      <td>-0.049665</td>\n",
       "      <td>...</td>\n",
       "      <td>0.287881</td>\n",
       "      <td>-0.097773</td>\n",
       "      <td>-0.131519</td>\n",
       "      <td>-0.130769</td>\n",
       "      <td>-0.070088</td>\n",
       "      <td>-0.139787</td>\n",
       "      <td>-0.0686</td>\n",
       "      <td>-0.068413</td>\n",
       "      <td>-0.072421</td>\n",
       "      <td>0</td>\n",
       "    </tr>\n",
       "    <tr>\n",
       "      <th>1</th>\n",
       "      <td>2</td>\n",
       "      <td>0.294021</td>\n",
       "      <td>-0.101958</td>\n",
       "      <td>-0.079045</td>\n",
       "      <td>-0.067094</td>\n",
       "      <td>-0.057932</td>\n",
       "      <td>-0.06999</td>\n",
       "      <td>-0.069649</td>\n",
       "      <td>-0.069424</td>\n",
       "      <td>-0.049665</td>\n",
       "      <td>...</td>\n",
       "      <td>0.287881</td>\n",
       "      <td>-0.097773</td>\n",
       "      <td>-0.131519</td>\n",
       "      <td>-0.130769</td>\n",
       "      <td>-0.070088</td>\n",
       "      <td>-0.139787</td>\n",
       "      <td>-0.0686</td>\n",
       "      <td>-0.068413</td>\n",
       "      <td>-0.072421</td>\n",
       "      <td>1</td>\n",
       "    </tr>\n",
       "    <tr>\n",
       "      <th>2</th>\n",
       "      <td>3</td>\n",
       "      <td>0.294021</td>\n",
       "      <td>-0.101958</td>\n",
       "      <td>-0.079045</td>\n",
       "      <td>-0.067094</td>\n",
       "      <td>-0.057932</td>\n",
       "      <td>-0.06999</td>\n",
       "      <td>-0.069649</td>\n",
       "      <td>-0.069424</td>\n",
       "      <td>-0.049665</td>\n",
       "      <td>...</td>\n",
       "      <td>0.287881</td>\n",
       "      <td>-0.097773</td>\n",
       "      <td>-0.131519</td>\n",
       "      <td>-0.130769</td>\n",
       "      <td>-0.070088</td>\n",
       "      <td>-0.139787</td>\n",
       "      <td>-0.0686</td>\n",
       "      <td>-0.068413</td>\n",
       "      <td>-0.072421</td>\n",
       "      <td>0</td>\n",
       "    </tr>\n",
       "    <tr>\n",
       "      <th>3</th>\n",
       "      <td>4</td>\n",
       "      <td>0.294021</td>\n",
       "      <td>-0.101958</td>\n",
       "      <td>-0.079045</td>\n",
       "      <td>-0.067094</td>\n",
       "      <td>-0.057932</td>\n",
       "      <td>-0.06999</td>\n",
       "      <td>-0.069649</td>\n",
       "      <td>-0.069424</td>\n",
       "      <td>-0.049665</td>\n",
       "      <td>...</td>\n",
       "      <td>0.287881</td>\n",
       "      <td>-0.097773</td>\n",
       "      <td>-0.131519</td>\n",
       "      <td>-0.130769</td>\n",
       "      <td>-0.070088</td>\n",
       "      <td>-0.139787</td>\n",
       "      <td>-0.0686</td>\n",
       "      <td>-0.068413</td>\n",
       "      <td>-0.072421</td>\n",
       "      <td>0</td>\n",
       "    </tr>\n",
       "    <tr>\n",
       "      <th>4</th>\n",
       "      <td>5</td>\n",
       "      <td>0.294021</td>\n",
       "      <td>-0.101958</td>\n",
       "      <td>-0.079045</td>\n",
       "      <td>-0.067094</td>\n",
       "      <td>-0.057932</td>\n",
       "      <td>-0.06999</td>\n",
       "      <td>-0.069649</td>\n",
       "      <td>-0.069424</td>\n",
       "      <td>-0.049665</td>\n",
       "      <td>...</td>\n",
       "      <td>0.287881</td>\n",
       "      <td>-0.097773</td>\n",
       "      <td>-0.131519</td>\n",
       "      <td>-0.130769</td>\n",
       "      <td>-0.070088</td>\n",
       "      <td>-0.139787</td>\n",
       "      <td>-0.0686</td>\n",
       "      <td>-0.068413</td>\n",
       "      <td>-0.072421</td>\n",
       "      <td>0</td>\n",
       "    </tr>\n",
       "  </tbody>\n",
       "</table>\n",
       "<p>5 rows × 29 columns</p>\n",
       "</div>"
      ],
      "text/plain": [
       "   record  dayssince_fulladdress  vel_fulladdress_30  vel_fulladdress_14  \\\n",
       "0       1               0.294021           -0.101958           -0.079045   \n",
       "1       2               0.294021           -0.101958           -0.079045   \n",
       "2       3               0.294021           -0.101958           -0.079045   \n",
       "3       4               0.294021           -0.101958           -0.079045   \n",
       "4       5               0.294021           -0.101958           -0.079045   \n",
       "\n",
       "   vel_fulladdress_7  vel_fulladdress_3  relv_fulladdress_14  \\\n",
       "0          -0.067094          -0.057932             -0.06999   \n",
       "1          -0.067094          -0.057932             -0.06999   \n",
       "2          -0.067094          -0.057932             -0.06999   \n",
       "3          -0.067094          -0.057932             -0.06999   \n",
       "4          -0.067094          -0.057932             -0.06999   \n",
       "\n",
       "   relv_fulladdress_30  relv_fulladdress_60  vel_fulladdress_1  ...  \\\n",
       "0            -0.069649            -0.069424          -0.049665  ...   \n",
       "1            -0.069649            -0.069424          -0.049665  ...   \n",
       "2            -0.069649            -0.069424          -0.049665  ...   \n",
       "3            -0.069649            -0.069424          -0.049665  ...   \n",
       "4            -0.069649            -0.069424          -0.049665  ...   \n",
       "\n",
       "   dayssince_namessn  vel_namessn_30  vel_namedob_60  vel_ssnnamedob_60  \\\n",
       "0           0.287881       -0.097773       -0.131519          -0.130769   \n",
       "1           0.287881       -0.097773       -0.131519          -0.130769   \n",
       "2           0.287881       -0.097773       -0.131519          -0.130769   \n",
       "3           0.287881       -0.097773       -0.131519          -0.130769   \n",
       "4           0.287881       -0.097773       -0.131519          -0.130769   \n",
       "\n",
       "   vel_fulladdressphone_14  vel_namessn_60  vel_namedob_14  vel_ssndob_14  \\\n",
       "0                -0.070088       -0.139787         -0.0686      -0.068413   \n",
       "1                -0.070088       -0.139787         -0.0686      -0.068413   \n",
       "2                -0.070088       -0.139787         -0.0686      -0.068413   \n",
       "3                -0.070088       -0.139787         -0.0686      -0.068413   \n",
       "4                -0.070088       -0.139787         -0.0686      -0.068413   \n",
       "\n",
       "   vel_ssn_14  fraud_label  \n",
       "0   -0.072421            0  \n",
       "1   -0.072421            1  \n",
       "2   -0.072421            0  \n",
       "3   -0.072421            0  \n",
       "4   -0.072421            0  \n",
       "\n",
       "[5 rows x 29 columns]"
      ]
     },
     "execution_count": 3,
     "metadata": {},
     "output_type": "execute_result"
    }
   ],
   "source": [
    "traintest.head()"
   ]
  },
  {
   "cell_type": "code",
   "execution_count": 4,
   "metadata": {},
   "outputs": [
    {
     "data": {
      "text/plain": [
       "(833507, 29)"
      ]
     },
     "execution_count": 4,
     "metadata": {},
     "output_type": "execute_result"
    }
   ],
   "source": [
    "traintest.shape"
   ]
  },
  {
   "cell_type": "code",
   "execution_count": 5,
   "metadata": {},
   "outputs": [],
   "source": [
    "# oot = data[data['date']>='2016-11-01']\n",
    "# traintest  = data[data['date']<'2016-11-01']\n",
    "X, y = traintest.drop(axis=1, labels=['fraud_label', 'record']).values, traintest[['fraud_label']].values.ravel()"
   ]
  },
  {
   "cell_type": "code",
   "execution_count": 6,
   "metadata": {},
   "outputs": [
    {
     "name": "stdout",
     "output_type": "stream",
     "text": [
      "(583454, 27) (583454,)\n",
      "<class 'numpy.ndarray'> <class 'numpy.ndarray'>\n"
     ]
    }
   ],
   "source": [
    "from sklearn.model_selection import train_test_split\n",
    "X_train, X_test, y_train, y_test = train_test_split(X, y, test_size=0.3)\n",
    "\n",
    "print(X_train.shape,y_train.shape)\n",
    "print(type(X_train),type(y_train))"
   ]
  },
  {
   "cell_type": "markdown",
   "metadata": {},
   "source": [
    "## add oot test result"
   ]
  },
  {
   "cell_type": "code",
   "execution_count": 7,
   "metadata": {},
   "outputs": [],
   "source": [
    "oot = pd.read_csv('Code5_6_oot.csv',index_col = 0)\n",
    "X_oot, y_oot = oot.drop(axis=1, labels=['fraud_label', 'record']).values, oot[['fraud_label']].values.ravel()"
   ]
  },
  {
   "cell_type": "code",
   "execution_count": 8,
   "metadata": {
    "scrolled": true
   },
   "outputs": [
    {
     "data": {
      "text/html": [
       "<div>\n",
       "<style scoped>\n",
       "    .dataframe tbody tr th:only-of-type {\n",
       "        vertical-align: middle;\n",
       "    }\n",
       "\n",
       "    .dataframe tbody tr th {\n",
       "        vertical-align: top;\n",
       "    }\n",
       "\n",
       "    .dataframe thead th {\n",
       "        text-align: right;\n",
       "    }\n",
       "</style>\n",
       "<table border=\"1\" class=\"dataframe\">\n",
       "  <thead>\n",
       "    <tr style=\"text-align: right;\">\n",
       "      <th></th>\n",
       "      <th>record</th>\n",
       "      <th>dayssince_fulladdress</th>\n",
       "      <th>vel_fulladdress_30</th>\n",
       "      <th>vel_fulladdress_14</th>\n",
       "      <th>vel_fulladdress_7</th>\n",
       "      <th>vel_fulladdress_3</th>\n",
       "      <th>relv_fulladdress_14</th>\n",
       "      <th>relv_fulladdress_30</th>\n",
       "      <th>relv_fulladdress_60</th>\n",
       "      <th>vel_fulladdress_1</th>\n",
       "      <th>...</th>\n",
       "      <th>dayssince_namessn</th>\n",
       "      <th>vel_namessn_30</th>\n",
       "      <th>vel_namedob_60</th>\n",
       "      <th>vel_ssnnamedob_60</th>\n",
       "      <th>vel_fulladdressphone_14</th>\n",
       "      <th>vel_namessn_60</th>\n",
       "      <th>vel_namedob_14</th>\n",
       "      <th>vel_ssndob_14</th>\n",
       "      <th>vel_ssn_14</th>\n",
       "      <th>fraud_label</th>\n",
       "    </tr>\n",
       "  </thead>\n",
       "  <tbody>\n",
       "    <tr>\n",
       "      <th>833507</th>\n",
       "      <td>833508</td>\n",
       "      <td>-2.005877</td>\n",
       "      <td>-0.101958</td>\n",
       "      <td>-0.079045</td>\n",
       "      <td>-0.067094</td>\n",
       "      <td>-0.057932</td>\n",
       "      <td>-0.06999</td>\n",
       "      <td>-0.069649</td>\n",
       "      <td>-0.069424</td>\n",
       "      <td>-0.049665</td>\n",
       "      <td>...</td>\n",
       "      <td>-2.057991</td>\n",
       "      <td>-0.097773</td>\n",
       "      <td>-0.131519</td>\n",
       "      <td>-0.130769</td>\n",
       "      <td>-0.070088</td>\n",
       "      <td>-0.139787</td>\n",
       "      <td>-0.06860</td>\n",
       "      <td>-0.068413</td>\n",
       "      <td>-0.072421</td>\n",
       "      <td>0</td>\n",
       "    </tr>\n",
       "    <tr>\n",
       "      <th>833508</th>\n",
       "      <td>833509</td>\n",
       "      <td>0.294021</td>\n",
       "      <td>-0.101958</td>\n",
       "      <td>-0.079045</td>\n",
       "      <td>-0.067094</td>\n",
       "      <td>-0.057932</td>\n",
       "      <td>-0.06999</td>\n",
       "      <td>-0.069649</td>\n",
       "      <td>-0.069424</td>\n",
       "      <td>-0.049665</td>\n",
       "      <td>...</td>\n",
       "      <td>0.287881</td>\n",
       "      <td>-0.097773</td>\n",
       "      <td>-0.131519</td>\n",
       "      <td>-0.130769</td>\n",
       "      <td>-0.070088</td>\n",
       "      <td>-0.139787</td>\n",
       "      <td>-0.06860</td>\n",
       "      <td>-0.068413</td>\n",
       "      <td>-0.072421</td>\n",
       "      <td>0</td>\n",
       "    </tr>\n",
       "    <tr>\n",
       "      <th>833509</th>\n",
       "      <td>833510</td>\n",
       "      <td>0.537280</td>\n",
       "      <td>1.475749</td>\n",
       "      <td>1.568788</td>\n",
       "      <td>-0.067094</td>\n",
       "      <td>-0.057932</td>\n",
       "      <td>-0.06999</td>\n",
       "      <td>-0.069649</td>\n",
       "      <td>-0.069424</td>\n",
       "      <td>-0.049665</td>\n",
       "      <td>...</td>\n",
       "      <td>0.536002</td>\n",
       "      <td>1.906670</td>\n",
       "      <td>1.742048</td>\n",
       "      <td>1.749690</td>\n",
       "      <td>2.004640</td>\n",
       "      <td>1.722942</td>\n",
       "      <td>2.05111</td>\n",
       "      <td>2.052253</td>\n",
       "      <td>2.021161</td>\n",
       "      <td>0</td>\n",
       "    </tr>\n",
       "    <tr>\n",
       "      <th>833510</th>\n",
       "      <td>833511</td>\n",
       "      <td>0.294021</td>\n",
       "      <td>-0.101958</td>\n",
       "      <td>-0.079045</td>\n",
       "      <td>-0.067094</td>\n",
       "      <td>-0.057932</td>\n",
       "      <td>-0.06999</td>\n",
       "      <td>-0.069649</td>\n",
       "      <td>-0.069424</td>\n",
       "      <td>-0.049665</td>\n",
       "      <td>...</td>\n",
       "      <td>0.287881</td>\n",
       "      <td>-0.097773</td>\n",
       "      <td>-0.131519</td>\n",
       "      <td>-0.130769</td>\n",
       "      <td>-0.070088</td>\n",
       "      <td>-0.139787</td>\n",
       "      <td>-0.06860</td>\n",
       "      <td>-0.068413</td>\n",
       "      <td>-0.072421</td>\n",
       "      <td>0</td>\n",
       "    </tr>\n",
       "    <tr>\n",
       "      <th>833511</th>\n",
       "      <td>833512</td>\n",
       "      <td>0.294021</td>\n",
       "      <td>-0.101958</td>\n",
       "      <td>-0.079045</td>\n",
       "      <td>-0.067094</td>\n",
       "      <td>-0.057932</td>\n",
       "      <td>-0.06999</td>\n",
       "      <td>-0.069649</td>\n",
       "      <td>-0.069424</td>\n",
       "      <td>-0.049665</td>\n",
       "      <td>...</td>\n",
       "      <td>0.287881</td>\n",
       "      <td>-0.097773</td>\n",
       "      <td>-0.131519</td>\n",
       "      <td>-0.130769</td>\n",
       "      <td>-0.070088</td>\n",
       "      <td>-0.139787</td>\n",
       "      <td>-0.06860</td>\n",
       "      <td>-0.068413</td>\n",
       "      <td>-0.072421</td>\n",
       "      <td>0</td>\n",
       "    </tr>\n",
       "  </tbody>\n",
       "</table>\n",
       "<p>5 rows × 29 columns</p>\n",
       "</div>"
      ],
      "text/plain": [
       "        record  dayssince_fulladdress  vel_fulladdress_30  vel_fulladdress_14  \\\n",
       "833507  833508              -2.005877           -0.101958           -0.079045   \n",
       "833508  833509               0.294021           -0.101958           -0.079045   \n",
       "833509  833510               0.537280            1.475749            1.568788   \n",
       "833510  833511               0.294021           -0.101958           -0.079045   \n",
       "833511  833512               0.294021           -0.101958           -0.079045   \n",
       "\n",
       "        vel_fulladdress_7  vel_fulladdress_3  relv_fulladdress_14  \\\n",
       "833507          -0.067094          -0.057932             -0.06999   \n",
       "833508          -0.067094          -0.057932             -0.06999   \n",
       "833509          -0.067094          -0.057932             -0.06999   \n",
       "833510          -0.067094          -0.057932             -0.06999   \n",
       "833511          -0.067094          -0.057932             -0.06999   \n",
       "\n",
       "        relv_fulladdress_30  relv_fulladdress_60  vel_fulladdress_1  ...  \\\n",
       "833507            -0.069649            -0.069424          -0.049665  ...   \n",
       "833508            -0.069649            -0.069424          -0.049665  ...   \n",
       "833509            -0.069649            -0.069424          -0.049665  ...   \n",
       "833510            -0.069649            -0.069424          -0.049665  ...   \n",
       "833511            -0.069649            -0.069424          -0.049665  ...   \n",
       "\n",
       "        dayssince_namessn  vel_namessn_30  vel_namedob_60  vel_ssnnamedob_60  \\\n",
       "833507          -2.057991       -0.097773       -0.131519          -0.130769   \n",
       "833508           0.287881       -0.097773       -0.131519          -0.130769   \n",
       "833509           0.536002        1.906670        1.742048           1.749690   \n",
       "833510           0.287881       -0.097773       -0.131519          -0.130769   \n",
       "833511           0.287881       -0.097773       -0.131519          -0.130769   \n",
       "\n",
       "        vel_fulladdressphone_14  vel_namessn_60  vel_namedob_14  \\\n",
       "833507                -0.070088       -0.139787        -0.06860   \n",
       "833508                -0.070088       -0.139787        -0.06860   \n",
       "833509                 2.004640        1.722942         2.05111   \n",
       "833510                -0.070088       -0.139787        -0.06860   \n",
       "833511                -0.070088       -0.139787        -0.06860   \n",
       "\n",
       "        vel_ssndob_14  vel_ssn_14  fraud_label  \n",
       "833507      -0.068413   -0.072421            0  \n",
       "833508      -0.068413   -0.072421            0  \n",
       "833509       2.052253    2.021161            0  \n",
       "833510      -0.068413   -0.072421            0  \n",
       "833511      -0.068413   -0.072421            0  \n",
       "\n",
       "[5 rows x 29 columns]"
      ]
     },
     "execution_count": 8,
     "metadata": {},
     "output_type": "execute_result"
    }
   ],
   "source": [
    "oot.head()"
   ]
  },
  {
   "cell_type": "code",
   "execution_count": 9,
   "metadata": {},
   "outputs": [
    {
     "data": {
      "text/plain": [
       "(166493, 29)"
      ]
     },
     "execution_count": 9,
     "metadata": {},
     "output_type": "execute_result"
    }
   ],
   "source": [
    "oot.shape"
   ]
  },
  {
   "cell_type": "markdown",
   "metadata": {},
   "source": [
    "## Define funciton to evaulate model result"
   ]
  },
  {
   "cell_type": "code",
   "execution_count": 10,
   "metadata": {},
   "outputs": [],
   "source": [
    "def FDR_top3perc_evaluation(model, X_test, y_test):\n",
    "    '''calculate the percentage of fraud caught at top 3 percent in decreasing order'''\n",
    "    result = model.predict_proba(X_test)[:,1]\n",
    "    test_pred =  pd.DataFrame(y_test, columns = ['fraud_label'])\n",
    "    test_pred['predicted']= result.tolist()\n",
    "    test_pred = test_pred.sort_values(by='predicted', ascending = False)\n",
    "    \n",
    "    \n",
    "    topRows= int(round(len(test_pred)*0.03)) # number of rows to slice for evaluaiton\n",
    "    top = test_pred.head(topRows)\n",
    "    \n",
    "    total_num_fraud= y_test.sum() # total number of fraud in test dataset\n",
    "    \n",
    "    FDR = top.loc[:,'fraud_label'].sum() / total_num_fraud\n",
    "    print(FDR)"
   ]
  },
  {
   "cell_type": "markdown",
   "metadata": {},
   "source": [
    "## Logistics Linear Regression\n",
    "\n",
    "We will use LogisticRegressionfrom Scikit-Learn for our first model. The only change we will make from the default model settings is to lower the regularization parameter, C, which controls the amount of overfitting (a lower value should decrease overfitting). This will get us slightly better results than the default LogisticRegression, but it still will set a low bar for any future models."
   ]
  },
  {
   "cell_type": "code",
   "execution_count": 11,
   "metadata": {},
   "outputs": [],
   "source": [
    "from sklearn import linear_model\n",
    "\n",
    "clf =  linear_model.LogisticRegression(C= 0.0001).fit(X_train, y_train)"
   ]
  },
  {
   "cell_type": "code",
   "execution_count": 12,
   "metadata": {},
   "outputs": [
    {
     "name": "stdout",
     "output_type": "stream",
     "text": [
      "0.4963348309292977\n"
     ]
    }
   ],
   "source": [
    "FDR_top3perc_evaluation(clf, X_train, y_train)"
   ]
  },
  {
   "cell_type": "code",
   "execution_count": 13,
   "metadata": {},
   "outputs": [
    {
     "name": "stdout",
     "output_type": "stream",
     "text": [
      "0.47928994082840237\n"
     ]
    }
   ],
   "source": [
    "FDR_top3perc_evaluation(clf, X_test, y_test)"
   ]
  },
  {
   "cell_type": "code",
   "execution_count": 14,
   "metadata": {},
   "outputs": [
    {
     "name": "stdout",
     "output_type": "stream",
     "text": [
      "0.4752724224643755\n"
     ]
    }
   ],
   "source": [
    "FDR_top3perc_evaluation(clf, X_oot, y_oot)"
   ]
  },
  {
   "cell_type": "markdown",
   "metadata": {},
   "source": [
    "## Boosted Tree\n",
    "A boosted tree is built by training a series of weak learners to finally build a strong learner. Each weak learner is basically a decision tree that is built to predict the residual error of the previous tree. These residual errors are used to allocate weights relative to their accuracies."
   ]
  },
  {
   "cell_type": "code",
   "execution_count": 15,
   "metadata": {},
   "outputs": [],
   "source": [
    "from sklearn.ensemble import GradientBoostingClassifier\n",
    "bt = GradientBoostingClassifier(n_estimators=500, learning_rate=0.1,max_depth=2).fit(X_train, y_train)"
   ]
  },
  {
   "cell_type": "code",
   "execution_count": 16,
   "metadata": {},
   "outputs": [
    {
     "name": "stdout",
     "output_type": "stream",
     "text": [
      "0.5348782218018444\n"
     ]
    }
   ],
   "source": [
    "FDR_top3perc_evaluation(bt, X_train, y_train)"
   ]
  },
  {
   "cell_type": "code",
   "execution_count": 17,
   "metadata": {},
   "outputs": [
    {
     "name": "stdout",
     "output_type": "stream",
     "text": [
      "0.5240912933220625\n"
     ]
    }
   ],
   "source": [
    "FDR_top3perc_evaluation(bt, X_test, y_test)"
   ]
  },
  {
   "cell_type": "code",
   "execution_count": 18,
   "metadata": {},
   "outputs": [
    {
     "name": "stdout",
     "output_type": "stream",
     "text": [
      "0.5255658005029338\n"
     ]
    }
   ],
   "source": [
    "FDR_top3perc_evaluation(bt, X_oot, y_oot)"
   ]
  },
  {
   "cell_type": "markdown",
   "metadata": {},
   "source": [
    "## Random forest \n",
    "A meta estimator that fits a number of decision tree classifiers on various sub-samples of the dataset and uses averaging to improve the predictive accuracy and control over-fitting. The sub-sample size is always the same as the original input sample size but the samples are drawn with replacement if bootstrap=True (default).\n",
    "        \n",
    "n_estimatorsinteger, optional (default=100)The number of trees in the forest.       \n",
    "        \n",
    "max_depthinteger or None, optional (default=None): The maximum depth of the tree. If None, then nodes are expanded until all leaves are pure or until all leaves contain less than min_samples_split samples.        "
   ]
  },
  {
   "cell_type": "code",
   "execution_count": 19,
   "metadata": {},
   "outputs": [],
   "source": [
    "from sklearn.ensemble import RandomForestClassifier\n",
    "rfc = RandomForestClassifier(max_depth=3, n_estimators = 400,  n_jobs = -1,max_features = 5).fit(X_train, y_train)"
   ]
  },
  {
   "cell_type": "code",
   "execution_count": 20,
   "metadata": {},
   "outputs": [
    {
     "name": "stdout",
     "output_type": "stream",
     "text": [
      "0.5182076140931662\n"
     ]
    }
   ],
   "source": [
    "FDR_top3perc_evaluation(rfc, X_train, y_train)"
   ]
  },
  {
   "cell_type": "code",
   "execution_count": 21,
   "metadata": {},
   "outputs": [
    {
     "name": "stdout",
     "output_type": "stream",
     "text": [
      "0.501549732318963\n"
     ]
    }
   ],
   "source": [
    "FDR_top3perc_evaluation(rfc, X_test, y_test)"
   ]
  },
  {
   "cell_type": "code",
   "execution_count": 22,
   "metadata": {},
   "outputs": [
    {
     "name": "stdout",
     "output_type": "stream",
     "text": [
      "0.5255658005029338\n"
     ]
    }
   ],
   "source": [
    "FDR_top3perc_evaluation(bt, X_oot, y_oot)"
   ]
  },
  {
   "cell_type": "markdown",
   "metadata": {},
   "source": [
    "## Neural Network"
   ]
  },
  {
   "cell_type": "code",
   "execution_count": 23,
   "metadata": {},
   "outputs": [],
   "source": [
    "from sklearn.neural_network import MLPClassifier\n",
    "nn = MLPClassifier(solver='lbfgs', alpha=1e-5, hidden_layer_sizes=(5, 2)).fit(X_train, y_train)"
   ]
  },
  {
   "cell_type": "code",
   "execution_count": 24,
   "metadata": {},
   "outputs": [
    {
     "name": "stdout",
     "output_type": "stream",
     "text": [
      "0.5354693781035705\n"
     ]
    }
   ],
   "source": [
    "FDR_top3perc_evaluation(nn, X_train, y_train)"
   ]
  },
  {
   "cell_type": "code",
   "execution_count": 25,
   "metadata": {},
   "outputs": [
    {
     "name": "stdout",
     "output_type": "stream",
     "text": [
      "0.5260636799098337\n"
     ]
    }
   ],
   "source": [
    "FDR_top3perc_evaluation(nn, X_test, y_test)"
   ]
  },
  {
   "cell_type": "code",
   "execution_count": 26,
   "metadata": {},
   "outputs": [
    {
     "name": "stdout",
     "output_type": "stream",
     "text": [
      "0.519279128248114\n"
     ]
    }
   ],
   "source": [
    "FDR_top3perc_evaluation(nn, X_oot, y_oot)"
   ]
  },
  {
   "cell_type": "markdown",
   "metadata": {},
   "source": [
    "## SVM\n",
    "# this is taking a long time to run for me (Iris) > 30 mins\n",
    "C float, optional (default=1.0)\n",
    "Regularization parameter. The strength of the regularization is inversely proportional to C. Must be strictly positive. The penalty is a squared l2 penalty.     \n",
    "      \n",
    "gamma{‘scale’, ‘auto’} or float, optional (default=’scale’)        \n",
    "\n",
    "kernelstring, optional (default=’rbf’) Specifies the kernel type to be used in the algorithm. It must be one of ‘linear’, ‘poly’, ‘rbf’, ‘sigmoid’...          \n",
    "\n",
    "Kernel coefficient for ‘rbf’, ‘poly’ and ‘sigmoid’.      "
   ]
  },
  {
   "cell_type": "code",
   "execution_count": 27,
   "metadata": {},
   "outputs": [],
   "source": [
    "# from sklearn.svm import SVC\n",
    "# svm = SVC(gamma='auto', probability= True).fit(X_train, y_train)"
   ]
  },
  {
   "cell_type": "code",
   "execution_count": 28,
   "metadata": {},
   "outputs": [],
   "source": [
    "# FDR_top3perc_evaluation(svm, X_train, y_train)"
   ]
  },
  {
   "cell_type": "code",
   "execution_count": 29,
   "metadata": {},
   "outputs": [],
   "source": [
    "# FDR_top3perc_evaluation(svm, X_test, y_test)"
   ]
  },
  {
   "cell_type": "code",
   "execution_count": 30,
   "metadata": {},
   "outputs": [],
   "source": [
    "# FDR_top3perc_evaluation(svm, X_oot, y_oot)"
   ]
  }
 ],
 "metadata": {
  "kernelspec": {
   "display_name": "Python 3",
   "language": "python",
   "name": "python3"
  },
  "language_info": {
   "codemirror_mode": {
    "name": "ipython",
    "version": 3
   },
   "file_extension": ".py",
   "mimetype": "text/x-python",
   "name": "python",
   "nbconvert_exporter": "python",
   "pygments_lexer": "ipython3",
   "version": "3.7.6"
  }
 },
 "nbformat": 4,
 "nbformat_minor": 2
}
