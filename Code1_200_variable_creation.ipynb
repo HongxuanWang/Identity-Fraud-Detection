{
 "cells": [
  {
   "cell_type": "code",
   "execution_count": null,
   "metadata": {},
   "outputs": [],
   "source": [
    "# Importing necessary modules\n",
    "import pandas as pd\n",
    "import numpy as np\n",
    "import matplotlib.pyplot as plt\n",
    "import datetime as dt\n",
    "import warnings\n",
    "warnings.filterwarnings(\"ignore\")"
   ]
  },
  {
   "cell_type": "code",
   "execution_count": null,
   "metadata": {},
   "outputs": [],
   "source": [
    "# Reading Applications Raw Data\n",
    "df=pd.read_csv('Code1_application.csv')"
   ]
  },
  {
   "cell_type": "code",
   "execution_count": null,
   "metadata": {},
   "outputs": [],
   "source": [
    "# Cleaning data\n",
    "df['address']=np.where(df['address']=='123 MAIN ST',df['record'],df['address'])\n",
    "df['homephone']=np.where(df['homephone']==9999999999, df['record'], df['homephone'])\n",
    "df['ssn'] = np.where(df['ssn']==999999999, df['record'], df['ssn'])\n",
    "df['dob'] = np.where(df['dob']==19070626, df['record'], df['dob'])"
   ]
  },
  {
   "cell_type": "code",
   "execution_count": null,
   "metadata": {},
   "outputs": [],
   "source": [
    "# Creating Same lengths for variables\n",
    "df['homephone'] = df['homephone'].astype(str).apply(lambda x: x.zfill(10))\n",
    "df['zip5'] = df['zip5'].astype(str).apply(lambda x: x.zfill(5))\n",
    "df['ssn'] = df['ssn'].astype(str).apply(lambda x: x.zfill(9))\n",
    "df['dob'] = df['dob'].astype(str).apply(lambda x: x.zfill(8))"
   ]
  },
  {
   "cell_type": "code",
   "execution_count": null,
   "metadata": {},
   "outputs": [],
   "source": [
    "# Converting to correct format\n",
    "df = df.astype(str)\n",
    "df['record'] = df['record'].astype(int)\n",
    "df['fraud_label'] = df['fraud_label'].astype(int)\n",
    "df['date'] = pd.to_datetime(df['date'])"
   ]
  },
  {
   "cell_type": "markdown",
   "metadata": {},
   "source": [
    "## Base Variable Creation"
   ]
  },
  {
   "cell_type": "code",
   "execution_count": null,
   "metadata": {},
   "outputs": [],
   "source": [
    "# creating 16 new base variables along with ssn and homephone\n",
    "df['name']= df['firstname']+df['lastname']\n",
    "df['namedob']=df['firstname']+df['lastname']+df['dob']\n",
    "df['fulladdress']=df['address']+df['zip5']\n",
    "\n",
    "df['ssnfulladdress']=df['ssn']+df['fulladdress']\n",
    "df['ssnnamedob']=df['ssn']+df['namedob']\n",
    "df['ssnphone']=df['ssn']+df['homephone']\n",
    "\n",
    "df['namedobfulladdress']=df['namedob']+df['fulladdress']\n",
    "df['fulladdressphone']=df['fulladdress']+df['homephone']\n",
    "df['namedobphone']=df['namedob']+df['homephone']\n",
    "df['firstnamessn']=df['firstname']+df['ssn']\n",
    "df['lastnamessn']=df['lastname']+df['ssn']\n",
    "\n",
    "df['namephone']=df['name']+df['homephone']\n",
    "df['namefulladdress']=df['name']+df['fulladdress']\n",
    "df['namezip']=df['name']+df['zip5']\n",
    "df['namephonefulladdress']=df['name']+df['homephone']+df['fulladdress']\n",
    "df['namessn']=df['name']+df['ssn']\n",
    "\n",
    "base_variables = ['ssn','homephone','name','namedob','fulladdress','ssnfulladdress',\n",
    "                 'ssnnamedob','ssnphone','namedobfulladdress','fulladdressphone','namedobphone', 'firstnamessn',\n",
    "                 'lastnamessn','namephone','namefulladdress','namezip','namephonefulladdress','namessn']\n"
   ]
  },
  {
   "cell_type": "code",
   "execution_count": null,
   "metadata": {},
   "outputs": [],
   "source": [
    "# Set date as index for rolling count\n",
    "df = df.set_index('date')"
   ]
  },
  {
   "cell_type": "markdown",
   "metadata": {},
   "source": [
    "## Velocity Logic"
   ]
  },
  {
   "cell_type": "code",
   "execution_count": null,
   "metadata": {},
   "outputs": [],
   "source": [
    "# calculates all the velocity variables\n",
    "for var in base_variables:\n",
    "        df['vel_{}_1'.format(var)] = getattr(df.groupby(var)['record'].rolling('1D'),'count')().values-1\n",
    "        df['vel_{}_3'.format(var)] = getattr(df.groupby(var)['record'].rolling('3D'),'count')().values-1\n",
    "        df['vel_{}_7'.format(var)] = getattr(df.groupby(var)['record'].rolling('7D'),'count')().values-1\n",
    "        df['vel_{}_14'.format(var)] = getattr(df.groupby(var)['record'].rolling('14D'),'count')().values-1\n",
    "        df['vel_{}_30'.format(var)] = getattr(df.groupby(var)['record'].rolling('30D'),'count')().values-1\n",
    "        df['vel_{}_90'.format(var)] = getattr(df.groupby(var)['record'].rolling('90D'),'count')().values-1\n",
    "        df['vel_{}_180'.format(var)] = getattr(df.groupby(var)['record'].rolling('180D'),'count')().values-1\n",
    "        "
   ]
  },
  {
   "cell_type": "markdown",
   "metadata": {},
   "source": [
    "## Relative Velocity Logic"
   ]
  },
  {
   "cell_type": "code",
   "execution_count": null,
   "metadata": {},
   "outputs": [],
   "source": [
    "# calculates relative velocity variables using 1 as base\n",
    "for var in base_variables:\n",
    "    for num in [3,7,14,30,90,180]:\n",
    "        df['relv_{}_{}'.format(var,num)] = df['vel_{}_1'.format(var)]/ df['vel_{}_{}'.format(var,num)]\n",
    "        \n",
    "#replacing nan with 0\n",
    "df.replace(np.nan, 0, inplace=True)\n",
    "df = df.reset_index()"
   ]
  },
  {
   "cell_type": "markdown",
   "metadata": {},
   "source": [
    "## dayssince logic"
   ]
  },
  {
   "cell_type": "code",
   "execution_count": null,
   "metadata": {
    "scrolled": false
   },
   "outputs": [],
   "source": [
    "#Days Since Variable Creation\n",
    "\n",
    "base_date = pd.to_datetime('2016-01-01')\n",
    "\n",
    "for i in base_variables:\n",
    "    variable_name='dayssince_{}'.format(i)\n",
    "    df[variable_name] = df.groupby(i)['date'].diff().dt.days\n",
    "    df['temp'] = (df.date - base_date)\n",
    "    df['temp'] = df.apply(lambda x: x.temp.days, axis=1)\n",
    "    df['temp'] = df['temp'].astype(float)\n",
    "    df['temp'][df['temp'] <20] = 19\n",
    "    df[variable_name] = df[variable_name].replace(np.nan,df['temp']+1)\n",
    "    df = df.drop('temp',axis = 1)\n"
   ]
  },
  {
   "cell_type": "code",
   "execution_count": null,
   "metadata": {},
   "outputs": [],
   "source": [
    "# Subtracts days since variable from max to keep it consistent (higher number means bad and lower number means good now)\n",
    "#df.info()\n",
    "\n",
    "days_since_columns = ['dayssince_ssn','dayssince_homephone','dayssince_name','dayssince_namedob','dayssince_fulladdress','dayssince_ssnfulladdress',\n",
    " 'dayssince_ssnnamedob','dayssince_ssnphone','dayssince_namedobfulladdress','dayssince_fulladdressphone','dayssince_namedobphone',\n",
    " 'dayssince_firstnamessn','dayssince_lastnamessn','dayssince_namephone','dayssince_namefulladdress','dayssince_namezip',\n",
    " 'dayssince_namephonefulladdress','dayssince_namessn']\n",
    "\n",
    "\n",
    "for i in days_since_columns: \n",
    "    maximum = df[i].max()\n",
    "    df[i] = maximum - df[i]\n"
   ]
  },
  {
   "cell_type": "code",
   "execution_count": null,
   "metadata": {},
   "outputs": [],
   "source": [
    "# Creating day of week target encoding\n",
    "df['dayofweek'] = df['date'].dt.day_name()\n",
    "df['risk_dayofweek'] = df.groupby('dayofweek')['fraud_label'].transform('mean')"
   ]
  },
  {
   "cell_type": "code",
   "execution_count": null,
   "metadata": {},
   "outputs": [],
   "source": [
    "# Dropping original variables\n",
    "original_variables = ['date','ssn','firstname','lastname','address','zip5','dob','homephone',\n",
    "                      'name','namedob','fulladdress','ssnfulladdress','ssnnamedob','ssnphone','namedobfulladdress',\n",
    "                      'fulladdressphone','namedobphone','firstnamessn','lastnamessn','namephone','namefulladdress',\n",
    "                      'namezip','namephonefulladdress','namessn','dayofweek']\n",
    "\n",
    "df.drop(original_variables,axis = 1,inplace = True)"
   ]
  },
  {
   "cell_type": "code",
   "execution_count": null,
   "metadata": {},
   "outputs": [],
   "source": [
    "# moving fraud_label to last\n",
    "\n",
    "df['fraud_label1'] = df['fraud_label']*1\n",
    "df.drop('fraud_label',axis = 1,inplace = True)\n",
    "df.rename(columns={'fraud_label1': 'fraud_label'},inplace = True)"
   ]
  },
  {
   "cell_type": "code",
   "execution_count": null,
   "metadata": {},
   "outputs": [],
   "source": [
    "pd.set_option('display.max_columns', None)  \n",
    "df.head()"
   ]
  },
  {
   "cell_type": "code",
   "execution_count": null,
   "metadata": {},
   "outputs": [],
   "source": [
    "df.to_csv(\"All Variable Data.csv\")"
   ]
  }
 ],
 "metadata": {
  "kernelspec": {
   "display_name": "Python 3",
   "language": "python",
   "name": "python3"
  },
  "language_info": {
   "codemirror_mode": {
    "name": "ipython",
    "version": 3
   },
   "file_extension": ".py",
   "mimetype": "text/x-python",
   "name": "python",
   "nbconvert_exporter": "python",
   "pygments_lexer": "ipython3",
   "version": "3.7.6"
  }
 },
 "nbformat": 4,
 "nbformat_minor": 4
}
