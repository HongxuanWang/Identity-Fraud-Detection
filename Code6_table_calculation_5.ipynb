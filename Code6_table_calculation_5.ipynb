{
 "cells": [
  {
   "cell_type": "code",
   "execution_count": 20,
   "metadata": {},
   "outputs": [],
   "source": [
    "#Loading necessary modules\n",
    "import pandas as pd\n",
    "import numpy as np"
   ]
  },
  {
   "cell_type": "code",
   "execution_count": 21,
   "metadata": {},
   "outputs": [],
   "source": [
    "# Load traintest data\n",
    "traintest = pd.read_csv('Code5_6_traintest.csv',index_col = 0)\n",
    "traintest_backup = traintest.copy()"
   ]
  },
  {
   "cell_type": "code",
   "execution_count": 22,
   "metadata": {
    "scrolled": true
   },
   "outputs": [
    {
     "data": {
      "text/html": [
       "<div>\n",
       "<style scoped>\n",
       "    .dataframe tbody tr th:only-of-type {\n",
       "        vertical-align: middle;\n",
       "    }\n",
       "\n",
       "    .dataframe tbody tr th {\n",
       "        vertical-align: top;\n",
       "    }\n",
       "\n",
       "    .dataframe thead th {\n",
       "        text-align: right;\n",
       "    }\n",
       "</style>\n",
       "<table border=\"1\" class=\"dataframe\">\n",
       "  <thead>\n",
       "    <tr style=\"text-align: right;\">\n",
       "      <th></th>\n",
       "      <th>record</th>\n",
       "      <th>dayssince_fulladdress</th>\n",
       "      <th>vel_fulladdress_30</th>\n",
       "      <th>vel_fulladdress_14</th>\n",
       "      <th>vel_fulladdress_7</th>\n",
       "      <th>vel_fulladdress_3</th>\n",
       "      <th>relv_fulladdress_14</th>\n",
       "      <th>relv_fulladdress_30</th>\n",
       "      <th>relv_fulladdress_60</th>\n",
       "      <th>vel_fulladdress_1</th>\n",
       "      <th>...</th>\n",
       "      <th>dayssince_namessn</th>\n",
       "      <th>vel_namessn_30</th>\n",
       "      <th>vel_namedob_60</th>\n",
       "      <th>vel_ssnnamedob_60</th>\n",
       "      <th>vel_fulladdressphone_14</th>\n",
       "      <th>vel_namessn_60</th>\n",
       "      <th>vel_namedob_14</th>\n",
       "      <th>vel_ssndob_14</th>\n",
       "      <th>vel_ssn_14</th>\n",
       "      <th>fraud_label</th>\n",
       "    </tr>\n",
       "  </thead>\n",
       "  <tbody>\n",
       "    <tr>\n",
       "      <th>0</th>\n",
       "      <td>1</td>\n",
       "      <td>0.294021</td>\n",
       "      <td>-0.101958</td>\n",
       "      <td>-0.079045</td>\n",
       "      <td>-0.067094</td>\n",
       "      <td>-0.057932</td>\n",
       "      <td>-0.06999</td>\n",
       "      <td>-0.069649</td>\n",
       "      <td>-0.069424</td>\n",
       "      <td>-0.049665</td>\n",
       "      <td>...</td>\n",
       "      <td>0.287881</td>\n",
       "      <td>-0.097773</td>\n",
       "      <td>-0.131519</td>\n",
       "      <td>-0.130769</td>\n",
       "      <td>-0.070088</td>\n",
       "      <td>-0.139787</td>\n",
       "      <td>-0.0686</td>\n",
       "      <td>-0.068413</td>\n",
       "      <td>-0.072421</td>\n",
       "      <td>0</td>\n",
       "    </tr>\n",
       "    <tr>\n",
       "      <th>1</th>\n",
       "      <td>2</td>\n",
       "      <td>0.294021</td>\n",
       "      <td>-0.101958</td>\n",
       "      <td>-0.079045</td>\n",
       "      <td>-0.067094</td>\n",
       "      <td>-0.057932</td>\n",
       "      <td>-0.06999</td>\n",
       "      <td>-0.069649</td>\n",
       "      <td>-0.069424</td>\n",
       "      <td>-0.049665</td>\n",
       "      <td>...</td>\n",
       "      <td>0.287881</td>\n",
       "      <td>-0.097773</td>\n",
       "      <td>-0.131519</td>\n",
       "      <td>-0.130769</td>\n",
       "      <td>-0.070088</td>\n",
       "      <td>-0.139787</td>\n",
       "      <td>-0.0686</td>\n",
       "      <td>-0.068413</td>\n",
       "      <td>-0.072421</td>\n",
       "      <td>1</td>\n",
       "    </tr>\n",
       "    <tr>\n",
       "      <th>2</th>\n",
       "      <td>3</td>\n",
       "      <td>0.294021</td>\n",
       "      <td>-0.101958</td>\n",
       "      <td>-0.079045</td>\n",
       "      <td>-0.067094</td>\n",
       "      <td>-0.057932</td>\n",
       "      <td>-0.06999</td>\n",
       "      <td>-0.069649</td>\n",
       "      <td>-0.069424</td>\n",
       "      <td>-0.049665</td>\n",
       "      <td>...</td>\n",
       "      <td>0.287881</td>\n",
       "      <td>-0.097773</td>\n",
       "      <td>-0.131519</td>\n",
       "      <td>-0.130769</td>\n",
       "      <td>-0.070088</td>\n",
       "      <td>-0.139787</td>\n",
       "      <td>-0.0686</td>\n",
       "      <td>-0.068413</td>\n",
       "      <td>-0.072421</td>\n",
       "      <td>0</td>\n",
       "    </tr>\n",
       "    <tr>\n",
       "      <th>3</th>\n",
       "      <td>4</td>\n",
       "      <td>0.294021</td>\n",
       "      <td>-0.101958</td>\n",
       "      <td>-0.079045</td>\n",
       "      <td>-0.067094</td>\n",
       "      <td>-0.057932</td>\n",
       "      <td>-0.06999</td>\n",
       "      <td>-0.069649</td>\n",
       "      <td>-0.069424</td>\n",
       "      <td>-0.049665</td>\n",
       "      <td>...</td>\n",
       "      <td>0.287881</td>\n",
       "      <td>-0.097773</td>\n",
       "      <td>-0.131519</td>\n",
       "      <td>-0.130769</td>\n",
       "      <td>-0.070088</td>\n",
       "      <td>-0.139787</td>\n",
       "      <td>-0.0686</td>\n",
       "      <td>-0.068413</td>\n",
       "      <td>-0.072421</td>\n",
       "      <td>0</td>\n",
       "    </tr>\n",
       "    <tr>\n",
       "      <th>4</th>\n",
       "      <td>5</td>\n",
       "      <td>0.294021</td>\n",
       "      <td>-0.101958</td>\n",
       "      <td>-0.079045</td>\n",
       "      <td>-0.067094</td>\n",
       "      <td>-0.057932</td>\n",
       "      <td>-0.06999</td>\n",
       "      <td>-0.069649</td>\n",
       "      <td>-0.069424</td>\n",
       "      <td>-0.049665</td>\n",
       "      <td>...</td>\n",
       "      <td>0.287881</td>\n",
       "      <td>-0.097773</td>\n",
       "      <td>-0.131519</td>\n",
       "      <td>-0.130769</td>\n",
       "      <td>-0.070088</td>\n",
       "      <td>-0.139787</td>\n",
       "      <td>-0.0686</td>\n",
       "      <td>-0.068413</td>\n",
       "      <td>-0.072421</td>\n",
       "      <td>0</td>\n",
       "    </tr>\n",
       "  </tbody>\n",
       "</table>\n",
       "<p>5 rows × 29 columns</p>\n",
       "</div>"
      ],
      "text/plain": [
       "   record  dayssince_fulladdress  vel_fulladdress_30  vel_fulladdress_14  \\\n",
       "0       1               0.294021           -0.101958           -0.079045   \n",
       "1       2               0.294021           -0.101958           -0.079045   \n",
       "2       3               0.294021           -0.101958           -0.079045   \n",
       "3       4               0.294021           -0.101958           -0.079045   \n",
       "4       5               0.294021           -0.101958           -0.079045   \n",
       "\n",
       "   vel_fulladdress_7  vel_fulladdress_3  relv_fulladdress_14  \\\n",
       "0          -0.067094          -0.057932             -0.06999   \n",
       "1          -0.067094          -0.057932             -0.06999   \n",
       "2          -0.067094          -0.057932             -0.06999   \n",
       "3          -0.067094          -0.057932             -0.06999   \n",
       "4          -0.067094          -0.057932             -0.06999   \n",
       "\n",
       "   relv_fulladdress_30  relv_fulladdress_60  vel_fulladdress_1  ...  \\\n",
       "0            -0.069649            -0.069424          -0.049665  ...   \n",
       "1            -0.069649            -0.069424          -0.049665  ...   \n",
       "2            -0.069649            -0.069424          -0.049665  ...   \n",
       "3            -0.069649            -0.069424          -0.049665  ...   \n",
       "4            -0.069649            -0.069424          -0.049665  ...   \n",
       "\n",
       "   dayssince_namessn  vel_namessn_30  vel_namedob_60  vel_ssnnamedob_60  \\\n",
       "0           0.287881       -0.097773       -0.131519          -0.130769   \n",
       "1           0.287881       -0.097773       -0.131519          -0.130769   \n",
       "2           0.287881       -0.097773       -0.131519          -0.130769   \n",
       "3           0.287881       -0.097773       -0.131519          -0.130769   \n",
       "4           0.287881       -0.097773       -0.131519          -0.130769   \n",
       "\n",
       "   vel_fulladdressphone_14  vel_namessn_60  vel_namedob_14  vel_ssndob_14  \\\n",
       "0                -0.070088       -0.139787         -0.0686      -0.068413   \n",
       "1                -0.070088       -0.139787         -0.0686      -0.068413   \n",
       "2                -0.070088       -0.139787         -0.0686      -0.068413   \n",
       "3                -0.070088       -0.139787         -0.0686      -0.068413   \n",
       "4                -0.070088       -0.139787         -0.0686      -0.068413   \n",
       "\n",
       "   vel_ssn_14  fraud_label  \n",
       "0   -0.072421            0  \n",
       "1   -0.072421            1  \n",
       "2   -0.072421            0  \n",
       "3   -0.072421            0  \n",
       "4   -0.072421            0  \n",
       "\n",
       "[5 rows x 29 columns]"
      ]
     },
     "execution_count": 22,
     "metadata": {},
     "output_type": "execute_result"
    }
   ],
   "source": [
    "traintest.head()"
   ]
  },
  {
   "cell_type": "code",
   "execution_count": 23,
   "metadata": {},
   "outputs": [
    {
     "data": {
      "text/plain": [
       "(833507, 29)"
      ]
     },
     "execution_count": 23,
     "metadata": {},
     "output_type": "execute_result"
    }
   ],
   "source": [
    "traintest.shape"
   ]
  },
  {
   "cell_type": "code",
   "execution_count": 24,
   "metadata": {},
   "outputs": [
    {
     "data": {
      "text/plain": [
       "Index(['record', 'dayssince_fulladdress', 'vel_fulladdress_30',\n",
       "       'vel_fulladdress_14', 'vel_fulladdress_7', 'vel_fulladdress_3',\n",
       "       'relv_fulladdress_14', 'relv_fulladdress_30', 'relv_fulladdress_60',\n",
       "       'vel_fulladdress_1', 'dayssince_fulladdressphone',\n",
       "       'vel_fulladdressphone_30', 'dayssince_namedob', 'vel_namedob_30',\n",
       "       'dayssince_ssn', 'vel_ssn_30', 'dayssince_ssnnamedob',\n",
       "       'vel_ssnnamedob_30', 'vel_fulladdressphone_60', 'dayssince_namessn',\n",
       "       'vel_namessn_30', 'vel_namedob_60', 'vel_ssnnamedob_60',\n",
       "       'vel_fulladdressphone_14', 'vel_namessn_60', 'vel_namedob_14',\n",
       "       'vel_ssndob_14', 'vel_ssn_14', 'fraud_label'],\n",
       "      dtype='object')"
      ]
     },
     "execution_count": 24,
     "metadata": {},
     "output_type": "execute_result"
    }
   ],
   "source": [
    "vars = traintest.columns\n",
    "vars"
   ]
  },
  {
   "cell_type": "code",
   "execution_count": 25,
   "metadata": {},
   "outputs": [],
   "source": [
    "# oot = data[data['date']>='2016-11-01']\n",
    "# traintest  = data[data['date']<'2016-11-01']\n",
    "X, y = traintest.drop(axis=1, labels=['fraud_label', 'record']).values, traintest[['fraud_label']].values.ravel()"
   ]
  },
  {
   "cell_type": "code",
   "execution_count": 26,
   "metadata": {},
   "outputs": [
    {
     "name": "stdout",
     "output_type": "stream",
     "text": [
      "(583454, 27) (583454,)\n",
      "<class 'numpy.ndarray'> <class 'numpy.ndarray'>\n"
     ]
    }
   ],
   "source": [
    "from sklearn.model_selection import train_test_split\n",
    "X_train, X_test, y_train, y_test = train_test_split(X, y, test_size=0.3)\n",
    "\n",
    "print(X_train.shape,y_train.shape)\n",
    "print(type(X_train),type(y_train))"
   ]
  },
  {
   "cell_type": "markdown",
   "metadata": {},
   "source": [
    "## add oot test result"
   ]
  },
  {
   "cell_type": "code",
   "execution_count": 27,
   "metadata": {},
   "outputs": [],
   "source": [
    "oot = pd.read_csv('Code5_6_oot.csv',index_col = 0)\n",
    "X_oot, y_oot = oot.drop(axis=1, labels=['fraud_label', 'record']).values, oot[['fraud_label']].values.ravel()"
   ]
  },
  {
   "cell_type": "code",
   "execution_count": 28,
   "metadata": {
    "scrolled": true
   },
   "outputs": [
    {
     "data": {
      "text/html": [
       "<div>\n",
       "<style scoped>\n",
       "    .dataframe tbody tr th:only-of-type {\n",
       "        vertical-align: middle;\n",
       "    }\n",
       "\n",
       "    .dataframe tbody tr th {\n",
       "        vertical-align: top;\n",
       "    }\n",
       "\n",
       "    .dataframe thead th {\n",
       "        text-align: right;\n",
       "    }\n",
       "</style>\n",
       "<table border=\"1\" class=\"dataframe\">\n",
       "  <thead>\n",
       "    <tr style=\"text-align: right;\">\n",
       "      <th></th>\n",
       "      <th>record</th>\n",
       "      <th>dayssince_fulladdress</th>\n",
       "      <th>vel_fulladdress_30</th>\n",
       "      <th>vel_fulladdress_14</th>\n",
       "      <th>vel_fulladdress_7</th>\n",
       "      <th>vel_fulladdress_3</th>\n",
       "      <th>relv_fulladdress_14</th>\n",
       "      <th>relv_fulladdress_30</th>\n",
       "      <th>relv_fulladdress_60</th>\n",
       "      <th>vel_fulladdress_1</th>\n",
       "      <th>...</th>\n",
       "      <th>dayssince_namessn</th>\n",
       "      <th>vel_namessn_30</th>\n",
       "      <th>vel_namedob_60</th>\n",
       "      <th>vel_ssnnamedob_60</th>\n",
       "      <th>vel_fulladdressphone_14</th>\n",
       "      <th>vel_namessn_60</th>\n",
       "      <th>vel_namedob_14</th>\n",
       "      <th>vel_ssndob_14</th>\n",
       "      <th>vel_ssn_14</th>\n",
       "      <th>fraud_label</th>\n",
       "    </tr>\n",
       "  </thead>\n",
       "  <tbody>\n",
       "    <tr>\n",
       "      <th>833507</th>\n",
       "      <td>833508</td>\n",
       "      <td>-2.005877</td>\n",
       "      <td>-0.101958</td>\n",
       "      <td>-0.079045</td>\n",
       "      <td>-0.067094</td>\n",
       "      <td>-0.057932</td>\n",
       "      <td>-0.06999</td>\n",
       "      <td>-0.069649</td>\n",
       "      <td>-0.069424</td>\n",
       "      <td>-0.049665</td>\n",
       "      <td>...</td>\n",
       "      <td>-2.057991</td>\n",
       "      <td>-0.097773</td>\n",
       "      <td>-0.131519</td>\n",
       "      <td>-0.130769</td>\n",
       "      <td>-0.070088</td>\n",
       "      <td>-0.139787</td>\n",
       "      <td>-0.06860</td>\n",
       "      <td>-0.068413</td>\n",
       "      <td>-0.072421</td>\n",
       "      <td>0</td>\n",
       "    </tr>\n",
       "    <tr>\n",
       "      <th>833508</th>\n",
       "      <td>833509</td>\n",
       "      <td>0.294021</td>\n",
       "      <td>-0.101958</td>\n",
       "      <td>-0.079045</td>\n",
       "      <td>-0.067094</td>\n",
       "      <td>-0.057932</td>\n",
       "      <td>-0.06999</td>\n",
       "      <td>-0.069649</td>\n",
       "      <td>-0.069424</td>\n",
       "      <td>-0.049665</td>\n",
       "      <td>...</td>\n",
       "      <td>0.287881</td>\n",
       "      <td>-0.097773</td>\n",
       "      <td>-0.131519</td>\n",
       "      <td>-0.130769</td>\n",
       "      <td>-0.070088</td>\n",
       "      <td>-0.139787</td>\n",
       "      <td>-0.06860</td>\n",
       "      <td>-0.068413</td>\n",
       "      <td>-0.072421</td>\n",
       "      <td>0</td>\n",
       "    </tr>\n",
       "    <tr>\n",
       "      <th>833509</th>\n",
       "      <td>833510</td>\n",
       "      <td>0.537280</td>\n",
       "      <td>1.475749</td>\n",
       "      <td>1.568788</td>\n",
       "      <td>-0.067094</td>\n",
       "      <td>-0.057932</td>\n",
       "      <td>-0.06999</td>\n",
       "      <td>-0.069649</td>\n",
       "      <td>-0.069424</td>\n",
       "      <td>-0.049665</td>\n",
       "      <td>...</td>\n",
       "      <td>0.536002</td>\n",
       "      <td>1.906670</td>\n",
       "      <td>1.742048</td>\n",
       "      <td>1.749690</td>\n",
       "      <td>2.004640</td>\n",
       "      <td>1.722942</td>\n",
       "      <td>2.05111</td>\n",
       "      <td>2.052253</td>\n",
       "      <td>2.021161</td>\n",
       "      <td>0</td>\n",
       "    </tr>\n",
       "    <tr>\n",
       "      <th>833510</th>\n",
       "      <td>833511</td>\n",
       "      <td>0.294021</td>\n",
       "      <td>-0.101958</td>\n",
       "      <td>-0.079045</td>\n",
       "      <td>-0.067094</td>\n",
       "      <td>-0.057932</td>\n",
       "      <td>-0.06999</td>\n",
       "      <td>-0.069649</td>\n",
       "      <td>-0.069424</td>\n",
       "      <td>-0.049665</td>\n",
       "      <td>...</td>\n",
       "      <td>0.287881</td>\n",
       "      <td>-0.097773</td>\n",
       "      <td>-0.131519</td>\n",
       "      <td>-0.130769</td>\n",
       "      <td>-0.070088</td>\n",
       "      <td>-0.139787</td>\n",
       "      <td>-0.06860</td>\n",
       "      <td>-0.068413</td>\n",
       "      <td>-0.072421</td>\n",
       "      <td>0</td>\n",
       "    </tr>\n",
       "    <tr>\n",
       "      <th>833511</th>\n",
       "      <td>833512</td>\n",
       "      <td>0.294021</td>\n",
       "      <td>-0.101958</td>\n",
       "      <td>-0.079045</td>\n",
       "      <td>-0.067094</td>\n",
       "      <td>-0.057932</td>\n",
       "      <td>-0.06999</td>\n",
       "      <td>-0.069649</td>\n",
       "      <td>-0.069424</td>\n",
       "      <td>-0.049665</td>\n",
       "      <td>...</td>\n",
       "      <td>0.287881</td>\n",
       "      <td>-0.097773</td>\n",
       "      <td>-0.131519</td>\n",
       "      <td>-0.130769</td>\n",
       "      <td>-0.070088</td>\n",
       "      <td>-0.139787</td>\n",
       "      <td>-0.06860</td>\n",
       "      <td>-0.068413</td>\n",
       "      <td>-0.072421</td>\n",
       "      <td>0</td>\n",
       "    </tr>\n",
       "  </tbody>\n",
       "</table>\n",
       "<p>5 rows × 29 columns</p>\n",
       "</div>"
      ],
      "text/plain": [
       "        record  dayssince_fulladdress  vel_fulladdress_30  vel_fulladdress_14  \\\n",
       "833507  833508              -2.005877           -0.101958           -0.079045   \n",
       "833508  833509               0.294021           -0.101958           -0.079045   \n",
       "833509  833510               0.537280            1.475749            1.568788   \n",
       "833510  833511               0.294021           -0.101958           -0.079045   \n",
       "833511  833512               0.294021           -0.101958           -0.079045   \n",
       "\n",
       "        vel_fulladdress_7  vel_fulladdress_3  relv_fulladdress_14  \\\n",
       "833507          -0.067094          -0.057932             -0.06999   \n",
       "833508          -0.067094          -0.057932             -0.06999   \n",
       "833509          -0.067094          -0.057932             -0.06999   \n",
       "833510          -0.067094          -0.057932             -0.06999   \n",
       "833511          -0.067094          -0.057932             -0.06999   \n",
       "\n",
       "        relv_fulladdress_30  relv_fulladdress_60  vel_fulladdress_1  ...  \\\n",
       "833507            -0.069649            -0.069424          -0.049665  ...   \n",
       "833508            -0.069649            -0.069424          -0.049665  ...   \n",
       "833509            -0.069649            -0.069424          -0.049665  ...   \n",
       "833510            -0.069649            -0.069424          -0.049665  ...   \n",
       "833511            -0.069649            -0.069424          -0.049665  ...   \n",
       "\n",
       "        dayssince_namessn  vel_namessn_30  vel_namedob_60  vel_ssnnamedob_60  \\\n",
       "833507          -2.057991       -0.097773       -0.131519          -0.130769   \n",
       "833508           0.287881       -0.097773       -0.131519          -0.130769   \n",
       "833509           0.536002        1.906670        1.742048           1.749690   \n",
       "833510           0.287881       -0.097773       -0.131519          -0.130769   \n",
       "833511           0.287881       -0.097773       -0.131519          -0.130769   \n",
       "\n",
       "        vel_fulladdressphone_14  vel_namessn_60  vel_namedob_14  \\\n",
       "833507                -0.070088       -0.139787        -0.06860   \n",
       "833508                -0.070088       -0.139787        -0.06860   \n",
       "833509                 2.004640        1.722942         2.05111   \n",
       "833510                -0.070088       -0.139787        -0.06860   \n",
       "833511                -0.070088       -0.139787        -0.06860   \n",
       "\n",
       "        vel_ssndob_14  vel_ssn_14  fraud_label  \n",
       "833507      -0.068413   -0.072421            0  \n",
       "833508      -0.068413   -0.072421            0  \n",
       "833509       2.052253    2.021161            0  \n",
       "833510      -0.068413   -0.072421            0  \n",
       "833511      -0.068413   -0.072421            0  \n",
       "\n",
       "[5 rows x 29 columns]"
      ]
     },
     "execution_count": 28,
     "metadata": {},
     "output_type": "execute_result"
    }
   ],
   "source": [
    "oot.head()"
   ]
  },
  {
   "cell_type": "code",
   "execution_count": 29,
   "metadata": {},
   "outputs": [
    {
     "data": {
      "text/plain": [
       "(166493, 29)"
      ]
     },
     "execution_count": 29,
     "metadata": {},
     "output_type": "execute_result"
    }
   ],
   "source": [
    "oot.shape"
   ]
  },
  {
   "cell_type": "markdown",
   "metadata": {},
   "source": [
    "## Define funciton to evaulate model result"
   ]
  },
  {
   "cell_type": "code",
   "execution_count": 30,
   "metadata": {},
   "outputs": [],
   "source": [
    "def FDR_top3perc_evaluation(model, X_test, y_test):\n",
    "    '''calculate the percentage of fraud caught at top 3 percent in decreasing order'''\n",
    "    result = model.predict_proba(X_test)[:,1]\n",
    "    test_pred =  pd.DataFrame(y_test, columns = ['fraud_label'])\n",
    "    test_pred['predicted']= result.tolist()\n",
    "    test_pred = test_pred.sort_values(by='predicted', ascending = False)\n",
    "    \n",
    "    \n",
    "    topRows= int(round(len(test_pred)*0.03)) # number of rows to slice for evaluaiton\n",
    "    top = test_pred.head(topRows)\n",
    "    \n",
    "    total_num_fraud= y_test.sum() # total number of fraud in test dataset\n",
    "    \n",
    "    FDR = top.loc[:,'fraud_label'].sum() / total_num_fraud\n",
    "    print(FDR)"
   ]
  },
  {
   "cell_type": "markdown",
   "metadata": {},
   "source": [
    "## Logistics Linear Regression\n",
    "\n",
    "We will use LogisticRegressionfrom Scikit-Learn for our first model. The only change we will make from the default model settings is to lower the regularization parameter, C, which controls the amount of overfitting (a lower value should decrease overfitting). This will get us slightly better results than the default LogisticRegression, but it still will set a low bar for any future models."
   ]
  },
  {
   "cell_type": "code",
   "execution_count": 50,
   "metadata": {},
   "outputs": [],
   "source": [
    "# from sklearn import linear_model\n",
    "\n",
    "# clf =  linear_model.LogisticRegression(C= 0.0001).fit(X_train, y_train)"
   ]
  },
  {
   "cell_type": "code",
   "execution_count": 53,
   "metadata": {},
   "outputs": [
    {
     "name": "stdout",
     "output_type": "stream",
     "text": [
      "0.4994514536478332\n"
     ]
    }
   ],
   "source": [
    "# FDR_top3perc_evaluation(clf, X_train, y_train)"
   ]
  },
  {
   "cell_type": "code",
   "execution_count": 54,
   "metadata": {},
   "outputs": [
    {
     "name": "stdout",
     "output_type": "stream",
     "text": [
      "0.48809950962803494\n"
     ]
    }
   ],
   "source": [
    "# FDR_top3perc_evaluation(clf, X_test, y_test)"
   ]
  },
  {
   "cell_type": "code",
   "execution_count": 55,
   "metadata": {},
   "outputs": [
    {
     "name": "stdout",
     "output_type": "stream",
     "text": [
      "0.4752724224643755\n"
     ]
    }
   ],
   "source": [
    "# FDR_top3perc_evaluation(clf, X_oot, y_oot)"
   ]
  },
  {
   "cell_type": "markdown",
   "metadata": {},
   "source": [
    "## Boosted Tree\n",
    "A boosted tree is built by training a series of weak learners to finally build a strong learner. Each weak learner is basically a decision tree that is built to predict the residual error of the previous tree. These residual errors are used to allocate weights relative to their accuracies."
   ]
  },
  {
   "cell_type": "code",
   "execution_count": 24,
   "metadata": {},
   "outputs": [],
   "source": [
    "# from sklearn.ensemble import GradientBoostingClassifier\n",
    "# bt = GradientBoostingClassifier(n_estimators=100, learning_rate=1.0,max_depth=1).fit(X_train, y_train)"
   ]
  },
  {
   "cell_type": "code",
   "execution_count": 25,
   "metadata": {},
   "outputs": [
    {
     "name": "stdout",
     "output_type": "stream",
     "text": [
      "0.4638011766118382\n"
     ]
    }
   ],
   "source": [
    "# FDR_top3perc_evaluation(bt, X_train, y_train)"
   ]
  },
  {
   "cell_type": "code",
   "execution_count": 26,
   "metadata": {},
   "outputs": [
    {
     "name": "stdout",
     "output_type": "stream",
     "text": [
      "0.4758020663404024\n"
     ]
    }
   ],
   "source": [
    "# FDR_top3perc_evaluation(bt, X_test, y_test)"
   ]
  },
  {
   "cell_type": "code",
   "execution_count": 27,
   "metadata": {},
   "outputs": [
    {
     "name": "stdout",
     "output_type": "stream",
     "text": [
      "0.4551550712489522\n"
     ]
    }
   ],
   "source": [
    "# FDR_top3perc_evaluation(bt, X_oot, y_oot)"
   ]
  },
  {
   "cell_type": "markdown",
   "metadata": {},
   "source": [
    "## Random forest \n",
    "A meta estimator that fits a number of decision tree classifiers on various sub-samples of the dataset and uses averaging to improve the predictive accuracy and control over-fitting. The sub-sample size is always the same as the original input sample size but the samples are drawn with replacement if bootstrap=True (default).\n",
    "        \n",
    "n_estimatorsinteger, optional (default=100)The number of trees in the forest.       \n",
    "        \n",
    "max_depthinteger or None, optional (default=None): The maximum depth of the tree. If None, then nodes are expanded until all leaves are pure or until all leaves contain less than min_samples_split samples.        "
   ]
  },
  {
   "cell_type": "code",
   "execution_count": 20,
   "metadata": {},
   "outputs": [],
   "source": [
    "# from sklearn.ensemble import RandomForestClassifier\n",
    "# rfc = RandomForestClassifier(max_depth=2, n_estimators = 100,  n_jobs = -1).fit(X_train, y_train)"
   ]
  },
  {
   "cell_type": "code",
   "execution_count": 21,
   "metadata": {},
   "outputs": [
    {
     "name": "stdout",
     "output_type": "stream",
     "text": [
      "0.4971785328370753\n"
     ]
    }
   ],
   "source": [
    "# FDR_top3perc_evaluation(rfc, X_train, y_train)"
   ]
  },
  {
   "cell_type": "code",
   "execution_count": 22,
   "metadata": {},
   "outputs": [
    {
     "name": "stdout",
     "output_type": "stream",
     "text": [
      "0.5087003806416531\n"
     ]
    }
   ],
   "source": [
    "# FDR_top3perc_evaluation(rfc, X_test, y_test)"
   ]
  },
  {
   "cell_type": "code",
   "execution_count": 23,
   "metadata": {},
   "outputs": [
    {
     "name": "stdout",
     "output_type": "stream",
     "text": [
      "0.48826487845766975\n"
     ]
    }
   ],
   "source": [
    "# FDR_top3perc_evaluation(rfc, X_oot, y_oot)"
   ]
  },
  {
   "cell_type": "markdown",
   "metadata": {},
   "source": [
    "## Neural Network"
   ]
  },
  {
   "cell_type": "code",
   "execution_count": 31,
   "metadata": {},
   "outputs": [
    {
     "name": "stderr",
     "output_type": "stream",
     "text": [
      "C:\\Users\\jayan\\AppData\\Local\\Continuum\\anaconda3\\lib\\site-packages\\sklearn\\neural_network\\_multilayer_perceptron.py:470: ConvergenceWarning: lbfgs failed to converge (status=1):\n",
      "STOP: TOTAL NO. of ITERATIONS REACHED LIMIT.\n",
      "\n",
      "Increase the number of iterations (max_iter) or scale the data as shown in:\n",
      "    https://scikit-learn.org/stable/modules/preprocessing.html\n",
      "  self.n_iter_ = _check_optimize_result(\"lbfgs\", opt_res, self.max_iter)\n"
     ]
    }
   ],
   "source": [
    "from sklearn.neural_network import MLPClassifier\n",
    "nn = MLPClassifier(solver='lbfgs', alpha=1e-5, hidden_layer_sizes=(5, 2)).fit(X_train, y_train)"
   ]
  },
  {
   "cell_type": "code",
   "execution_count": 32,
   "metadata": {},
   "outputs": [
    {
     "name": "stdout",
     "output_type": "stream",
     "text": [
      "0.5303913405495421\n"
     ]
    }
   ],
   "source": [
    "FDR_top3perc_evaluation(nn, X_train, y_train)"
   ]
  },
  {
   "cell_type": "code",
   "execution_count": 33,
   "metadata": {},
   "outputs": [
    {
     "name": "stdout",
     "output_type": "stream",
     "text": [
      "0.5197222222222222\n"
     ]
    }
   ],
   "source": [
    "FDR_top3perc_evaluation(nn, X_test, y_test)"
   ]
  },
  {
   "cell_type": "code",
   "execution_count": 34,
   "metadata": {},
   "outputs": [
    {
     "name": "stdout",
     "output_type": "stream",
     "text": [
      "0.5150880134115675\n"
     ]
    }
   ],
   "source": [
    "FDR_top3perc_evaluation(nn, X_oot, y_oot)"
   ]
  },
  {
   "cell_type": "code",
   "execution_count": 40,
   "metadata": {},
   "outputs": [
    {
     "data": {
      "text/plain": [
       "array([0.00718828, 0.00718828, 0.00718828, ..., 0.00718828, 0.00718828,\n",
       "       0.00718828])"
      ]
     },
     "execution_count": 40,
     "metadata": {},
     "output_type": "execute_result"
    }
   ],
   "source": [
    "result = nn.predict_proba(X_train)[:,1]\n",
    "result\n",
    "\n",
    "\n"
   ]
  },
  {
   "cell_type": "code",
   "execution_count": 42,
   "metadata": {},
   "outputs": [
    {
     "data": {
      "text/html": [
       "<div>\n",
       "<style scoped>\n",
       "    .dataframe tbody tr th:only-of-type {\n",
       "        vertical-align: middle;\n",
       "    }\n",
       "\n",
       "    .dataframe tbody tr th {\n",
       "        vertical-align: top;\n",
       "    }\n",
       "\n",
       "    .dataframe thead th {\n",
       "        text-align: right;\n",
       "    }\n",
       "</style>\n",
       "<table border=\"1\" class=\"dataframe\">\n",
       "  <thead>\n",
       "    <tr style=\"text-align: right;\">\n",
       "      <th></th>\n",
       "      <th>fraud_label_predicted</th>\n",
       "    </tr>\n",
       "  </thead>\n",
       "  <tbody>\n",
       "    <tr>\n",
       "      <th>0</th>\n",
       "      <td>0.007188</td>\n",
       "    </tr>\n",
       "    <tr>\n",
       "      <th>1</th>\n",
       "      <td>0.007188</td>\n",
       "    </tr>\n",
       "    <tr>\n",
       "      <th>2</th>\n",
       "      <td>0.007188</td>\n",
       "    </tr>\n",
       "    <tr>\n",
       "      <th>3</th>\n",
       "      <td>0.007188</td>\n",
       "    </tr>\n",
       "    <tr>\n",
       "      <th>4</th>\n",
       "      <td>0.007188</td>\n",
       "    </tr>\n",
       "    <tr>\n",
       "      <th>...</th>\n",
       "      <td>...</td>\n",
       "    </tr>\n",
       "    <tr>\n",
       "      <th>583449</th>\n",
       "      <td>0.007188</td>\n",
       "    </tr>\n",
       "    <tr>\n",
       "      <th>583450</th>\n",
       "      <td>0.007188</td>\n",
       "    </tr>\n",
       "    <tr>\n",
       "      <th>583451</th>\n",
       "      <td>0.007188</td>\n",
       "    </tr>\n",
       "    <tr>\n",
       "      <th>583452</th>\n",
       "      <td>0.007188</td>\n",
       "    </tr>\n",
       "    <tr>\n",
       "      <th>583453</th>\n",
       "      <td>0.007188</td>\n",
       "    </tr>\n",
       "  </tbody>\n",
       "</table>\n",
       "<p>583454 rows × 1 columns</p>\n",
       "</div>"
      ],
      "text/plain": [
       "        fraud_label_predicted\n",
       "0                    0.007188\n",
       "1                    0.007188\n",
       "2                    0.007188\n",
       "3                    0.007188\n",
       "4                    0.007188\n",
       "...                       ...\n",
       "583449               0.007188\n",
       "583450               0.007188\n",
       "583451               0.007188\n",
       "583452               0.007188\n",
       "583453               0.007188\n",
       "\n",
       "[583454 rows x 1 columns]"
      ]
     },
     "execution_count": 42,
     "metadata": {},
     "output_type": "execute_result"
    }
   ],
   "source": [
    "train_pred =  pd.DataFrame(result, columns = ['fraud_label_predicted'])\n",
    "train_pred"
   ]
  },
  {
   "cell_type": "code",
   "execution_count": 44,
   "metadata": {},
   "outputs": [
    {
     "data": {
      "text/html": [
       "<div>\n",
       "<style scoped>\n",
       "    .dataframe tbody tr th:only-of-type {\n",
       "        vertical-align: middle;\n",
       "    }\n",
       "\n",
       "    .dataframe tbody tr th {\n",
       "        vertical-align: top;\n",
       "    }\n",
       "\n",
       "    .dataframe thead th {\n",
       "        text-align: right;\n",
       "    }\n",
       "</style>\n",
       "<table border=\"1\" class=\"dataframe\">\n",
       "  <thead>\n",
       "    <tr style=\"text-align: right;\">\n",
       "      <th></th>\n",
       "      <th>fraud_label</th>\n",
       "      <th>fraud_label_predicted</th>\n",
       "    </tr>\n",
       "  </thead>\n",
       "  <tbody>\n",
       "    <tr>\n",
       "      <th>475236</th>\n",
       "      <td>1</td>\n",
       "      <td>1.000000e+00</td>\n",
       "    </tr>\n",
       "    <tr>\n",
       "      <th>208988</th>\n",
       "      <td>1</td>\n",
       "      <td>1.000000e+00</td>\n",
       "    </tr>\n",
       "    <tr>\n",
       "      <th>52317</th>\n",
       "      <td>1</td>\n",
       "      <td>1.000000e+00</td>\n",
       "    </tr>\n",
       "    <tr>\n",
       "      <th>180116</th>\n",
       "      <td>1</td>\n",
       "      <td>1.000000e+00</td>\n",
       "    </tr>\n",
       "    <tr>\n",
       "      <th>224551</th>\n",
       "      <td>1</td>\n",
       "      <td>1.000000e+00</td>\n",
       "    </tr>\n",
       "    <tr>\n",
       "      <th>...</th>\n",
       "      <td>...</td>\n",
       "      <td>...</td>\n",
       "    </tr>\n",
       "    <tr>\n",
       "      <th>433526</th>\n",
       "      <td>0</td>\n",
       "      <td>2.661055e-04</td>\n",
       "    </tr>\n",
       "    <tr>\n",
       "      <th>410228</th>\n",
       "      <td>0</td>\n",
       "      <td>2.060044e-04</td>\n",
       "    </tr>\n",
       "    <tr>\n",
       "      <th>420031</th>\n",
       "      <td>0</td>\n",
       "      <td>2.037833e-04</td>\n",
       "    </tr>\n",
       "    <tr>\n",
       "      <th>438422</th>\n",
       "      <td>0</td>\n",
       "      <td>1.254513e-04</td>\n",
       "    </tr>\n",
       "    <tr>\n",
       "      <th>352121</th>\n",
       "      <td>0</td>\n",
       "      <td>7.613739e-08</td>\n",
       "    </tr>\n",
       "  </tbody>\n",
       "</table>\n",
       "<p>583454 rows × 2 columns</p>\n",
       "</div>"
      ],
      "text/plain": [
       "        fraud_label  fraud_label_predicted\n",
       "475236            1           1.000000e+00\n",
       "208988            1           1.000000e+00\n",
       "52317             1           1.000000e+00\n",
       "180116            1           1.000000e+00\n",
       "224551            1           1.000000e+00\n",
       "...             ...                    ...\n",
       "433526            0           2.661055e-04\n",
       "410228            0           2.060044e-04\n",
       "420031            0           2.037833e-04\n",
       "438422            0           1.254513e-04\n",
       "352121            0           7.613739e-08\n",
       "\n",
       "[583454 rows x 2 columns]"
      ]
     },
     "execution_count": 44,
     "metadata": {},
     "output_type": "execute_result"
    }
   ],
   "source": [
    "training = pd.DataFrame(y_train, columns =['fraud_label' ])\\\n",
    ".join(train_pred).sort_values(by = 'fraud_label_predicted', ascending = False)\n",
    "training"
   ]
  },
  {
   "cell_type": "code",
   "execution_count": 45,
   "metadata": {},
   "outputs": [
    {
     "data": {
      "text/html": [
       "<div>\n",
       "<style scoped>\n",
       "    .dataframe tbody tr th:only-of-type {\n",
       "        vertical-align: middle;\n",
       "    }\n",
       "\n",
       "    .dataframe tbody tr th {\n",
       "        vertical-align: top;\n",
       "    }\n",
       "\n",
       "    .dataframe thead th {\n",
       "        text-align: right;\n",
       "    }\n",
       "</style>\n",
       "<table border=\"1\" class=\"dataframe\">\n",
       "  <thead>\n",
       "    <tr style=\"text-align: right;\">\n",
       "      <th></th>\n",
       "      <th>fraud_label</th>\n",
       "      <th>fraud_label_predicted</th>\n",
       "      <th>group</th>\n",
       "    </tr>\n",
       "  </thead>\n",
       "  <tbody>\n",
       "    <tr>\n",
       "      <th>475236</th>\n",
       "      <td>1</td>\n",
       "      <td>1.000000e+00</td>\n",
       "      <td>(577619.47, 583454.0]</td>\n",
       "    </tr>\n",
       "    <tr>\n",
       "      <th>208988</th>\n",
       "      <td>1</td>\n",
       "      <td>1.000000e+00</td>\n",
       "      <td>(577619.47, 583454.0]</td>\n",
       "    </tr>\n",
       "    <tr>\n",
       "      <th>52317</th>\n",
       "      <td>1</td>\n",
       "      <td>1.000000e+00</td>\n",
       "      <td>(577619.47, 583454.0]</td>\n",
       "    </tr>\n",
       "    <tr>\n",
       "      <th>180116</th>\n",
       "      <td>1</td>\n",
       "      <td>1.000000e+00</td>\n",
       "      <td>(577619.47, 583454.0]</td>\n",
       "    </tr>\n",
       "    <tr>\n",
       "      <th>224551</th>\n",
       "      <td>1</td>\n",
       "      <td>1.000000e+00</td>\n",
       "      <td>(577619.47, 583454.0]</td>\n",
       "    </tr>\n",
       "    <tr>\n",
       "      <th>...</th>\n",
       "      <td>...</td>\n",
       "      <td>...</td>\n",
       "      <td>...</td>\n",
       "    </tr>\n",
       "    <tr>\n",
       "      <th>433526</th>\n",
       "      <td>0</td>\n",
       "      <td>2.661055e-04</td>\n",
       "      <td>(0.999, 5835.53]</td>\n",
       "    </tr>\n",
       "    <tr>\n",
       "      <th>410228</th>\n",
       "      <td>0</td>\n",
       "      <td>2.060044e-04</td>\n",
       "      <td>(0.999, 5835.53]</td>\n",
       "    </tr>\n",
       "    <tr>\n",
       "      <th>420031</th>\n",
       "      <td>0</td>\n",
       "      <td>2.037833e-04</td>\n",
       "      <td>(0.999, 5835.53]</td>\n",
       "    </tr>\n",
       "    <tr>\n",
       "      <th>438422</th>\n",
       "      <td>0</td>\n",
       "      <td>1.254513e-04</td>\n",
       "      <td>(0.999, 5835.53]</td>\n",
       "    </tr>\n",
       "    <tr>\n",
       "      <th>352121</th>\n",
       "      <td>0</td>\n",
       "      <td>7.613739e-08</td>\n",
       "      <td>(0.999, 5835.53]</td>\n",
       "    </tr>\n",
       "  </tbody>\n",
       "</table>\n",
       "<p>583454 rows × 3 columns</p>\n",
       "</div>"
      ],
      "text/plain": [
       "        fraud_label  fraud_label_predicted                  group\n",
       "475236            1           1.000000e+00  (577619.47, 583454.0]\n",
       "208988            1           1.000000e+00  (577619.47, 583454.0]\n",
       "52317             1           1.000000e+00  (577619.47, 583454.0]\n",
       "180116            1           1.000000e+00  (577619.47, 583454.0]\n",
       "224551            1           1.000000e+00  (577619.47, 583454.0]\n",
       "...             ...                    ...                    ...\n",
       "433526            0           2.661055e-04       (0.999, 5835.53]\n",
       "410228            0           2.060044e-04       (0.999, 5835.53]\n",
       "420031            0           2.037833e-04       (0.999, 5835.53]\n",
       "438422            0           1.254513e-04       (0.999, 5835.53]\n",
       "352121            0           7.613739e-08       (0.999, 5835.53]\n",
       "\n",
       "[583454 rows x 3 columns]"
      ]
     },
     "execution_count": 45,
     "metadata": {},
     "output_type": "execute_result"
    }
   ],
   "source": [
    "training['group'] =pd.qcut(training['fraud_label_predicted'].rank(method='first'), q=100)\n",
    "training"
   ]
  },
  {
   "cell_type": "code",
   "execution_count": 46,
   "metadata": {},
   "outputs": [
    {
     "data": {
      "text/html": [
       "<div>\n",
       "<style scoped>\n",
       "    .dataframe tbody tr th:only-of-type {\n",
       "        vertical-align: middle;\n",
       "    }\n",
       "\n",
       "    .dataframe tbody tr th {\n",
       "        vertical-align: top;\n",
       "    }\n",
       "\n",
       "    .dataframe thead th {\n",
       "        text-align: right;\n",
       "    }\n",
       "</style>\n",
       "<table border=\"1\" class=\"dataframe\">\n",
       "  <thead>\n",
       "    <tr style=\"text-align: right;\">\n",
       "      <th></th>\n",
       "      <th># Bads</th>\n",
       "    </tr>\n",
       "    <tr>\n",
       "      <th>group</th>\n",
       "      <th></th>\n",
       "    </tr>\n",
       "  </thead>\n",
       "  <tbody>\n",
       "    <tr>\n",
       "      <th>(577619.47, 583454.0]</th>\n",
       "      <td>4248</td>\n",
       "    </tr>\n",
       "    <tr>\n",
       "      <th>(571784.94, 577619.47]</th>\n",
       "      <td>166</td>\n",
       "    </tr>\n",
       "    <tr>\n",
       "      <th>(565950.41, 571784.94]</th>\n",
       "      <td>51</td>\n",
       "    </tr>\n",
       "    <tr>\n",
       "      <th>(560115.88, 565950.41]</th>\n",
       "      <td>45</td>\n",
       "    </tr>\n",
       "    <tr>\n",
       "      <th>(554281.35, 560115.88]</th>\n",
       "      <td>37</td>\n",
       "    </tr>\n",
       "    <tr>\n",
       "      <th>(548446.82, 554281.35]</th>\n",
       "      <td>51</td>\n",
       "    </tr>\n",
       "    <tr>\n",
       "      <th>(542612.29, 548446.82]</th>\n",
       "      <td>38</td>\n",
       "    </tr>\n",
       "    <tr>\n",
       "      <th>(536777.76, 542612.29]</th>\n",
       "      <td>43</td>\n",
       "    </tr>\n",
       "    <tr>\n",
       "      <th>(530943.23, 536777.76]</th>\n",
       "      <td>42</td>\n",
       "    </tr>\n",
       "    <tr>\n",
       "      <th>(525108.7, 530943.23]</th>\n",
       "      <td>39</td>\n",
       "    </tr>\n",
       "    <tr>\n",
       "      <th>(519274.17, 525108.7]</th>\n",
       "      <td>43</td>\n",
       "    </tr>\n",
       "    <tr>\n",
       "      <th>(513439.64, 519274.17]</th>\n",
       "      <td>37</td>\n",
       "    </tr>\n",
       "    <tr>\n",
       "      <th>(507605.11, 513439.64]</th>\n",
       "      <td>47</td>\n",
       "    </tr>\n",
       "    <tr>\n",
       "      <th>(501770.58, 507605.11]</th>\n",
       "      <td>44</td>\n",
       "    </tr>\n",
       "    <tr>\n",
       "      <th>(495936.05, 501770.58]</th>\n",
       "      <td>39</td>\n",
       "    </tr>\n",
       "    <tr>\n",
       "      <th>(490101.52, 495936.05]</th>\n",
       "      <td>52</td>\n",
       "    </tr>\n",
       "    <tr>\n",
       "      <th>(484266.99, 490101.52]</th>\n",
       "      <td>32</td>\n",
       "    </tr>\n",
       "    <tr>\n",
       "      <th>(478432.46, 484266.99]</th>\n",
       "      <td>46</td>\n",
       "    </tr>\n",
       "    <tr>\n",
       "      <th>(472597.93, 478432.46]</th>\n",
       "      <td>48</td>\n",
       "    </tr>\n",
       "    <tr>\n",
       "      <th>(466763.4, 472597.93]</th>\n",
       "      <td>42</td>\n",
       "    </tr>\n",
       "  </tbody>\n",
       "</table>\n",
       "</div>"
      ],
      "text/plain": [
       "                        # Bads\n",
       "group                         \n",
       "(577619.47, 583454.0]     4248\n",
       "(571784.94, 577619.47]     166\n",
       "(565950.41, 571784.94]      51\n",
       "(560115.88, 565950.41]      45\n",
       "(554281.35, 560115.88]      37\n",
       "(548446.82, 554281.35]      51\n",
       "(542612.29, 548446.82]      38\n",
       "(536777.76, 542612.29]      43\n",
       "(530943.23, 536777.76]      42\n",
       "(525108.7, 530943.23]       39\n",
       "(519274.17, 525108.7]       43\n",
       "(513439.64, 519274.17]      37\n",
       "(507605.11, 513439.64]      47\n",
       "(501770.58, 507605.11]      44\n",
       "(495936.05, 501770.58]      39\n",
       "(490101.52, 495936.05]      52\n",
       "(484266.99, 490101.52]      32\n",
       "(478432.46, 484266.99]      46\n",
       "(472597.93, 478432.46]      48\n",
       "(466763.4, 472597.93]       42"
      ]
     },
     "execution_count": 46,
     "metadata": {},
     "output_type": "execute_result"
    }
   ],
   "source": [
    "training_tb = training.groupby(['group']).sum().sort_index( ascending = False).head(20)[['fraud_label']].rename(columns={'fraud_label':'# Bads'})\n",
    "training_tb"
   ]
  },
  {
   "cell_type": "code",
   "execution_count": 47,
   "metadata": {},
   "outputs": [],
   "source": [
    "training_final = training_tb.join(training_tb.cumsum().rename(columns ={ '# Bads':'Cumulative Bads'}))"
   ]
  },
  {
   "cell_type": "code",
   "execution_count": 48,
   "metadata": {},
   "outputs": [
    {
     "data": {
      "text/html": [
       "<div>\n",
       "<style scoped>\n",
       "    .dataframe tbody tr th:only-of-type {\n",
       "        vertical-align: middle;\n",
       "    }\n",
       "\n",
       "    .dataframe tbody tr th {\n",
       "        vertical-align: top;\n",
       "    }\n",
       "\n",
       "    .dataframe thead th {\n",
       "        text-align: right;\n",
       "    }\n",
       "</style>\n",
       "<table border=\"1\" class=\"dataframe\">\n",
       "  <thead>\n",
       "    <tr style=\"text-align: right;\">\n",
       "      <th></th>\n",
       "      <th># Bads</th>\n",
       "      <th>Cumulative Bads</th>\n",
       "    </tr>\n",
       "    <tr>\n",
       "      <th>group</th>\n",
       "      <th></th>\n",
       "      <th></th>\n",
       "    </tr>\n",
       "  </thead>\n",
       "  <tbody>\n",
       "    <tr>\n",
       "      <th>(577619.47, 583454.0]</th>\n",
       "      <td>4248</td>\n",
       "      <td>4248</td>\n",
       "    </tr>\n",
       "    <tr>\n",
       "      <th>(571784.94, 577619.47]</th>\n",
       "      <td>166</td>\n",
       "      <td>4414</td>\n",
       "    </tr>\n",
       "    <tr>\n",
       "      <th>(565950.41, 571784.94]</th>\n",
       "      <td>51</td>\n",
       "      <td>4465</td>\n",
       "    </tr>\n",
       "    <tr>\n",
       "      <th>(560115.88, 565950.41]</th>\n",
       "      <td>45</td>\n",
       "      <td>4510</td>\n",
       "    </tr>\n",
       "    <tr>\n",
       "      <th>(554281.35, 560115.88]</th>\n",
       "      <td>37</td>\n",
       "      <td>4547</td>\n",
       "    </tr>\n",
       "    <tr>\n",
       "      <th>(548446.82, 554281.35]</th>\n",
       "      <td>51</td>\n",
       "      <td>4598</td>\n",
       "    </tr>\n",
       "    <tr>\n",
       "      <th>(542612.29, 548446.82]</th>\n",
       "      <td>38</td>\n",
       "      <td>4636</td>\n",
       "    </tr>\n",
       "    <tr>\n",
       "      <th>(536777.76, 542612.29]</th>\n",
       "      <td>43</td>\n",
       "      <td>4679</td>\n",
       "    </tr>\n",
       "    <tr>\n",
       "      <th>(530943.23, 536777.76]</th>\n",
       "      <td>42</td>\n",
       "      <td>4721</td>\n",
       "    </tr>\n",
       "    <tr>\n",
       "      <th>(525108.7, 530943.23]</th>\n",
       "      <td>39</td>\n",
       "      <td>4760</td>\n",
       "    </tr>\n",
       "    <tr>\n",
       "      <th>(519274.17, 525108.7]</th>\n",
       "      <td>43</td>\n",
       "      <td>4803</td>\n",
       "    </tr>\n",
       "    <tr>\n",
       "      <th>(513439.64, 519274.17]</th>\n",
       "      <td>37</td>\n",
       "      <td>4840</td>\n",
       "    </tr>\n",
       "    <tr>\n",
       "      <th>(507605.11, 513439.64]</th>\n",
       "      <td>47</td>\n",
       "      <td>4887</td>\n",
       "    </tr>\n",
       "    <tr>\n",
       "      <th>(501770.58, 507605.11]</th>\n",
       "      <td>44</td>\n",
       "      <td>4931</td>\n",
       "    </tr>\n",
       "    <tr>\n",
       "      <th>(495936.05, 501770.58]</th>\n",
       "      <td>39</td>\n",
       "      <td>4970</td>\n",
       "    </tr>\n",
       "    <tr>\n",
       "      <th>(490101.52, 495936.05]</th>\n",
       "      <td>52</td>\n",
       "      <td>5022</td>\n",
       "    </tr>\n",
       "    <tr>\n",
       "      <th>(484266.99, 490101.52]</th>\n",
       "      <td>32</td>\n",
       "      <td>5054</td>\n",
       "    </tr>\n",
       "    <tr>\n",
       "      <th>(478432.46, 484266.99]</th>\n",
       "      <td>46</td>\n",
       "      <td>5100</td>\n",
       "    </tr>\n",
       "    <tr>\n",
       "      <th>(472597.93, 478432.46]</th>\n",
       "      <td>48</td>\n",
       "      <td>5148</td>\n",
       "    </tr>\n",
       "    <tr>\n",
       "      <th>(466763.4, 472597.93]</th>\n",
       "      <td>42</td>\n",
       "      <td>5190</td>\n",
       "    </tr>\n",
       "  </tbody>\n",
       "</table>\n",
       "</div>"
      ],
      "text/plain": [
       "                        # Bads  Cumulative Bads\n",
       "group                                          \n",
       "(577619.47, 583454.0]     4248             4248\n",
       "(571784.94, 577619.47]     166             4414\n",
       "(565950.41, 571784.94]      51             4465\n",
       "(560115.88, 565950.41]      45             4510\n",
       "(554281.35, 560115.88]      37             4547\n",
       "(548446.82, 554281.35]      51             4598\n",
       "(542612.29, 548446.82]      38             4636\n",
       "(536777.76, 542612.29]      43             4679\n",
       "(530943.23, 536777.76]      42             4721\n",
       "(525108.7, 530943.23]       39             4760\n",
       "(519274.17, 525108.7]       43             4803\n",
       "(513439.64, 519274.17]      37             4840\n",
       "(507605.11, 513439.64]      47             4887\n",
       "(501770.58, 507605.11]      44             4931\n",
       "(495936.05, 501770.58]      39             4970\n",
       "(490101.52, 495936.05]      52             5022\n",
       "(484266.99, 490101.52]      32             5054\n",
       "(478432.46, 484266.99]      46             5100\n",
       "(472597.93, 478432.46]      48             5148\n",
       "(466763.4, 472597.93]       42             5190"
      ]
     },
     "execution_count": 48,
     "metadata": {},
     "output_type": "execute_result"
    }
   ],
   "source": [
    "#training_final.to_excel('training.xlsx')\n",
    "training_final"
   ]
  },
  {
   "cell_type": "code",
   "execution_count": 50,
   "metadata": {},
   "outputs": [
    {
     "data": {
      "text/plain": [
       "8407"
      ]
     },
     "execution_count": 50,
     "metadata": {},
     "output_type": "execute_result"
    }
   ],
   "source": [
    "training['fraud_label'].sum()"
   ]
  },
  {
   "cell_type": "code",
   "execution_count": 90,
   "metadata": {},
   "outputs": [
    {
     "data": {
      "text/plain": [
       "3659"
      ]
     },
     "execution_count": 90,
     "metadata": {},
     "output_type": "execute_result"
    }
   ],
   "source": [
    "testing['fraud_label'].sum()"
   ]
  },
  {
   "cell_type": "code",
   "execution_count": 73,
   "metadata": {},
   "outputs": [],
   "source": [
    "result = nn.predict_proba(X_test)[:,1]\n",
    "test_pred =  pd.DataFrame(result, columns = ['fraud_label_predicted'])\n",
    "\n",
    "testing = pd.DataFrame(y_test, columns =['fraud_label' ])\\\n",
    ".join(test_pred).sort_values(by = 'fraud_label_predicted', ascending = False)\n",
    "testing['group'] =pd.qcut(testing['fraud_label_predicted'].rank(method='first'), q=100)\n"
   ]
  },
  {
   "cell_type": "code",
   "execution_count": 77,
   "metadata": {},
   "outputs": [],
   "source": [
    "testing_tb = testing.groupby(['group']).sum().sort_index( ascending = False).head(20)[['fraud_label']].rename(columns={'fraud_label':'# Bads'})\n",
    "testing_final = testing_tb.join(testing_tb.cumsum().rename(columns ={ '# Bads':'Cumulative Bads'}))\n",
    "#testing_final.to_excel('testing.xlsx')\n",
    "testing_final"
   ]
  },
  {
   "cell_type": "code",
   "execution_count": 79,
   "metadata": {},
   "outputs": [
    {
     "data": {
      "text/html": [
       "<div>\n",
       "<style scoped>\n",
       "    .dataframe tbody tr th:only-of-type {\n",
       "        vertical-align: middle;\n",
       "    }\n",
       "\n",
       "    .dataframe tbody tr th {\n",
       "        vertical-align: top;\n",
       "    }\n",
       "\n",
       "    .dataframe thead th {\n",
       "        text-align: right;\n",
       "    }\n",
       "</style>\n",
       "<table border=\"1\" class=\"dataframe\">\n",
       "  <thead>\n",
       "    <tr style=\"text-align: right;\">\n",
       "      <th></th>\n",
       "      <th># Bads</th>\n",
       "      <th>Cumulative Bads</th>\n",
       "    </tr>\n",
       "    <tr>\n",
       "      <th>group</th>\n",
       "      <th></th>\n",
       "      <th></th>\n",
       "    </tr>\n",
       "  </thead>\n",
       "  <tbody>\n",
       "    <tr>\n",
       "      <th>(247552.48, 250053.0]</th>\n",
       "      <td>1848</td>\n",
       "      <td>1848</td>\n",
       "    </tr>\n",
       "    <tr>\n",
       "      <th>(245051.96, 247552.48]</th>\n",
       "      <td>85</td>\n",
       "      <td>1933</td>\n",
       "    </tr>\n",
       "    <tr>\n",
       "      <th>(242551.44, 245051.96]</th>\n",
       "      <td>22</td>\n",
       "      <td>1955</td>\n",
       "    </tr>\n",
       "    <tr>\n",
       "      <th>(240050.92, 242551.44]</th>\n",
       "      <td>17</td>\n",
       "      <td>1972</td>\n",
       "    </tr>\n",
       "    <tr>\n",
       "      <th>(237550.4, 240050.92]</th>\n",
       "      <td>16</td>\n",
       "      <td>1988</td>\n",
       "    </tr>\n",
       "    <tr>\n",
       "      <th>(235049.88, 237550.4]</th>\n",
       "      <td>23</td>\n",
       "      <td>2011</td>\n",
       "    </tr>\n",
       "    <tr>\n",
       "      <th>(232549.36, 235049.88]</th>\n",
       "      <td>20</td>\n",
       "      <td>2031</td>\n",
       "    </tr>\n",
       "    <tr>\n",
       "      <th>(230048.84, 232549.36]</th>\n",
       "      <td>21</td>\n",
       "      <td>2052</td>\n",
       "    </tr>\n",
       "    <tr>\n",
       "      <th>(227548.32, 230048.84]</th>\n",
       "      <td>22</td>\n",
       "      <td>2074</td>\n",
       "    </tr>\n",
       "    <tr>\n",
       "      <th>(225047.8, 227548.32]</th>\n",
       "      <td>14</td>\n",
       "      <td>2088</td>\n",
       "    </tr>\n",
       "    <tr>\n",
       "      <th>(222547.28, 225047.8]</th>\n",
       "      <td>15</td>\n",
       "      <td>2103</td>\n",
       "    </tr>\n",
       "    <tr>\n",
       "      <th>(220046.76, 222547.28]</th>\n",
       "      <td>22</td>\n",
       "      <td>2125</td>\n",
       "    </tr>\n",
       "    <tr>\n",
       "      <th>(217546.24, 220046.76]</th>\n",
       "      <td>20</td>\n",
       "      <td>2145</td>\n",
       "    </tr>\n",
       "    <tr>\n",
       "      <th>(215045.72, 217546.24]</th>\n",
       "      <td>21</td>\n",
       "      <td>2166</td>\n",
       "    </tr>\n",
       "    <tr>\n",
       "      <th>(212545.2, 215045.72]</th>\n",
       "      <td>23</td>\n",
       "      <td>2189</td>\n",
       "    </tr>\n",
       "    <tr>\n",
       "      <th>(210044.68, 212545.2]</th>\n",
       "      <td>17</td>\n",
       "      <td>2206</td>\n",
       "    </tr>\n",
       "    <tr>\n",
       "      <th>(207544.16, 210044.68]</th>\n",
       "      <td>27</td>\n",
       "      <td>2233</td>\n",
       "    </tr>\n",
       "    <tr>\n",
       "      <th>(205043.64, 207544.16]</th>\n",
       "      <td>21</td>\n",
       "      <td>2254</td>\n",
       "    </tr>\n",
       "    <tr>\n",
       "      <th>(202543.12, 205043.64]</th>\n",
       "      <td>21</td>\n",
       "      <td>2275</td>\n",
       "    </tr>\n",
       "    <tr>\n",
       "      <th>(200042.6, 202543.12]</th>\n",
       "      <td>13</td>\n",
       "      <td>2288</td>\n",
       "    </tr>\n",
       "  </tbody>\n",
       "</table>\n",
       "</div>"
      ],
      "text/plain": [
       "                        # Bads  Cumulative Bads\n",
       "group                                          \n",
       "(247552.48, 250053.0]     1848             1848\n",
       "(245051.96, 247552.48]      85             1933\n",
       "(242551.44, 245051.96]      22             1955\n",
       "(240050.92, 242551.44]      17             1972\n",
       "(237550.4, 240050.92]       16             1988\n",
       "(235049.88, 237550.4]       23             2011\n",
       "(232549.36, 235049.88]      20             2031\n",
       "(230048.84, 232549.36]      21             2052\n",
       "(227548.32, 230048.84]      22             2074\n",
       "(225047.8, 227548.32]       14             2088\n",
       "(222547.28, 225047.8]       15             2103\n",
       "(220046.76, 222547.28]      22             2125\n",
       "(217546.24, 220046.76]      20             2145\n",
       "(215045.72, 217546.24]      21             2166\n",
       "(212545.2, 215045.72]       23             2189\n",
       "(210044.68, 212545.2]       17             2206\n",
       "(207544.16, 210044.68]      27             2233\n",
       "(205043.64, 207544.16]      21             2254\n",
       "(202543.12, 205043.64]      21             2275\n",
       "(200042.6, 202543.12]       13             2288"
      ]
     },
     "execution_count": 79,
     "metadata": {},
     "output_type": "execute_result"
    }
   ],
   "source": [
    "testing_final"
   ]
  },
  {
   "cell_type": "code",
   "execution_count": 80,
   "metadata": {},
   "outputs": [],
   "source": [
    "result = nn.predict_proba(X_oot)[:,1]\n",
    "oot_pred =  pd.DataFrame(result, columns = ['fraud_label_predicted'])\n",
    "\n",
    "oot = pd.DataFrame(y_oot, columns =['fraud_label' ])\\\n",
    ".join(oot_pred).sort_values(by = 'fraud_label_predicted', ascending = False)\n",
    "oot['group'] =pd.qcut(oot['fraud_label_predicted'].rank(method='first'), q=100)\n"
   ]
  },
  {
   "cell_type": "code",
   "execution_count": 81,
   "metadata": {},
   "outputs": [],
   "source": [
    "oot_tb = oot.groupby(['group']).sum().sort_index( ascending = False).head(20)[['fraud_label']].rename(columns={'fraud_label':'# Bads'})\n",
    "oot_final = oot_tb.join(oot_tb.cumsum().rename(columns ={ '# Bads':'Cumulative Bads'}))\n",
    "#oot_final.to_excel('oot.xlsx')\n",
    "oot_final"
   ]
  },
  {
   "cell_type": "markdown",
   "metadata": {},
   "source": [
    "## SVM\n",
    "# this is taking a long time to run for me (Iris) > 30 mins\n",
    "C float, optional (default=1.0)\n",
    "Regularization parameter. The strength of the regularization is inversely proportional to C. Must be strictly positive. The penalty is a squared l2 penalty.     \n",
    "      \n",
    "gamma{‘scale’, ‘auto’} or float, optional (default=’scale’)        \n",
    "\n",
    "kernelstring, optional (default=’rbf’) Specifies the kernel type to be used in the algorithm. It must be one of ‘linear’, ‘poly’, ‘rbf’, ‘sigmoid’...          \n",
    "\n",
    "Kernel coefficient for ‘rbf’, ‘poly’ and ‘sigmoid’.      "
   ]
  },
  {
   "cell_type": "code",
   "execution_count": null,
   "metadata": {},
   "outputs": [],
   "source": [
    "# from sklearn.svm import SVC\n",
    "# # svm = SVC(gamma='auto', probability= True).fit(X_train, y_train)"
   ]
  },
  {
   "cell_type": "code",
   "execution_count": null,
   "metadata": {},
   "outputs": [],
   "source": [
    "# FDR_top3perc_evaluation(svm, X_train, y_train)"
   ]
  },
  {
   "cell_type": "code",
   "execution_count": null,
   "metadata": {},
   "outputs": [],
   "source": [
    "# FDR_top3perc_evaluation(svm, X_test, y_test)"
   ]
  },
  {
   "cell_type": "code",
   "execution_count": null,
   "metadata": {},
   "outputs": [],
   "source": [
    "# FDR_top3perc_evaluation(svm, X_oot, y_oot)"
   ]
  }
 ],
 "metadata": {
  "kernelspec": {
   "display_name": "Python 3",
   "language": "python",
   "name": "python3"
  },
  "language_info": {
   "codemirror_mode": {
    "name": "ipython",
    "version": 3
   },
   "file_extension": ".py",
   "mimetype": "text/x-python",
   "name": "python",
   "nbconvert_exporter": "python",
   "pygments_lexer": "ipython3",
   "version": "3.7.6"
  }
 },
 "nbformat": 4,
 "nbformat_minor": 2
}
